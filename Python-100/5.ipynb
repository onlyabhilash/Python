{
 "cells": [
  {
   "cell_type": "markdown",
   "id": "political-dominican",
   "metadata": {},
   "source": [
    "#### 16.Use a list comprehension to square each odd number in a list. The list is input by a sequence of comma-separated numbers. >Suppose the following input is supplied to the program:\n",
    "\n",
    "    1,2,3,4,5,6,7,8,9\n",
    "\n",
    "#### Then, the output should be:\n",
    "\n",
    "    1,9,25,49,81"
   ]
  },
  {
   "cell_type": "code",
   "execution_count": 3,
   "id": "protecting-personality",
   "metadata": {},
   "outputs": [
    {
     "name": "stdout",
     "output_type": "stream",
     "text": [
      "1,2,3,4,5,6,7,8,9\n",
      "1,4,16,25,49,64\n"
     ]
    }
   ],
   "source": [
    "lst = [str(int(i) ** 2) for i in input().split(',') if int(i) % 2]\n",
    "print(','.join(lst))"
   ]
  },
  {
   "cell_type": "code",
   "execution_count": 5,
   "id": "patient-temperature",
   "metadata": {},
   "outputs": [
    {
     "name": "stdout",
     "output_type": "stream",
     "text": [
      "1,2,3,4,5,6,7,8,9\n",
      "1,9,25,49,81\n"
     ]
    }
   ],
   "source": [
    "lst = input().split(',')\n",
    "\n",
    "seq = []\n",
    "lst = [int(i) for i in lst]\n",
    "for i in lst:\n",
    "    if i % 2 != 0:\n",
    "        i = i ** 2\n",
    "        seq.append(i)\n",
    "        \n",
    "seq = [str(i) for i in seq]\n",
    "print(','.join(seq))"
   ]
  },
  {
   "cell_type": "markdown",
   "id": "level-festival",
   "metadata": {},
   "source": [
    "#### 17.Write a program that computes the net amount of a bank account based a transaction log from console input. The transaction log format is shown as following:\n",
    "\n",
    "    D 100\n",
    "    W 200\n",
    "    D means deposit while W means withdrawal.\n",
    "#### Suppose the following input is supplied to the program:\n",
    "\n",
    "    D 300\n",
    "    D 300\n",
    "    W 200\n",
    "    D 100\n",
    "#### Then, the output should be:\n",
    "\n",
    "    500"
   ]
  },
  {
   "cell_type": "code",
   "execution_count": 13,
   "id": "worthy-smell",
   "metadata": {},
   "outputs": [
    {
     "name": "stdout",
     "output_type": "stream",
     "text": [
      "D 300\n",
      "D 300\n",
      "W 100\n",
      "D 200\n",
      "\n",
      "700\n"
     ]
    }
   ],
   "source": [
    "total = 0\n",
    "while True:\n",
    "    s = input().split()\n",
    "    if not s:\n",
    "        break\n",
    "    cm, num = map(\n",
    "        str, s\n",
    "    )\n",
    "    if cm == 'D':\n",
    "        total += int(num)\n",
    "    if cm == 'W':\n",
    "        total -= int(num)\n",
    "        \n",
    "print(total)"
   ]
  },
  {
   "cell_type": "code",
   "execution_count": 14,
   "id": "blind-clearing",
   "metadata": {},
   "outputs": [
    {
     "name": "stdout",
     "output_type": "stream",
     "text": [
      "D 300\n",
      "D 300\n",
      "W 100\n",
      "D 200\n",
      "\n",
      "700\n"
     ]
    }
   ],
   "source": [
    "# using List\n",
    "\n",
    "lst = []\n",
    "\n",
    "while True:\n",
    "    x = input()\n",
    "    if len(x) == 0:\n",
    "        break\n",
    "    lst.append(x)\n",
    "    \n",
    "balance = 0\n",
    "for item in lst:\n",
    "    if 'D' in item:\n",
    "        balance += int(item.strip('D'))\n",
    "    if 'W' in item:\n",
    "        balance -= int(item.strip('W'))\n",
    "        \n",
    "print(balance)\n",
    "        "
   ]
  },
  {
   "cell_type": "code",
   "execution_count": 6,
   "id": "selective-technical",
   "metadata": {},
   "outputs": [
    {
     "name": "stdout",
     "output_type": "stream",
     "text": [
      "Deposit/Whitdrow/Balance/Quit? D/W/B/Q: c\n",
      "Deposit/Whitdrow/Balance/Quit? D/W/B/Q: q\n"
     ]
    }
   ],
   "source": [
    "account = 0\n",
    "\n",
    "while True:\n",
    "    action = input('Deposit/Whitdrow/Balance/Quit? D/W/B/Q: ').lower()\n",
    "    if action == 'd':\n",
    "        deposit = input('How much would you like to deposit? ')\n",
    "        account += int(deposit)\n",
    "    elif action == 'w':\n",
    "        withdrawl = input('How much would you like to withdrow? ')\n",
    "        account -= int(withdrawl)\n",
    "    elif action == 'b':\n",
    "        print(account)\n",
    "    elif action == 'q':\n",
    "        break"
   ]
  },
  {
   "cell_type": "code",
   "execution_count": 14,
   "id": "rational-allah",
   "metadata": {},
   "outputs": [
    {
     "name": "stdout",
     "output_type": "stream",
     "text": [
      "D 300\n",
      "D 300\n",
      "W 100\n",
      "D 200\n",
      "done\n",
      "700\n"
     ]
    }
   ],
   "source": [
    "# using generator\n",
    "\n",
    "lines = []\n",
    "while True:\n",
    "    loopInput = input()\n",
    "    if not loopInput:\n",
    "        break\n",
    "    if loopInput == 'done':\n",
    "        break\n",
    "    else:\n",
    "        lines.append(loopInput)\n",
    "        \n",
    "lst = list(int(i[2:]) if i[0] == 'D' else -int(i[2:]) for i in lines)\n",
    "print(sum(lst))"
   ]
  },
  {
   "cell_type": "code",
   "execution_count": null,
   "id": "conscious-mississippi",
   "metadata": {},
   "outputs": [],
   "source": []
  }
 ],
 "metadata": {
  "kernelspec": {
   "display_name": "Python 3",
   "language": "python",
   "name": "python3"
  },
  "language_info": {
   "codemirror_mode": {
    "name": "ipython",
    "version": 3
   },
   "file_extension": ".py",
   "mimetype": "text/x-python",
   "name": "python",
   "nbconvert_exporter": "python",
   "pygments_lexer": "ipython3",
   "version": "3.7.9"
  }
 },
 "nbformat": 4,
 "nbformat_minor": 5
}
