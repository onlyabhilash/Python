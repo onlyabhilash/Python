{
 "cells": [
  {
   "cell_type": "markdown",
   "id": "complimentary-hamburg",
   "metadata": {},
   "source": [
    "#### 16.Use a list comprehension to square each odd number in a list. The list is input by a sequence of comma-separated numbers. >Suppose the following input is supplied to the program:\n",
    "\n",
    "    1,2,3,4,5,6,7,8,9\n",
    "\n",
    "#### Then, the output should be:\n",
    "\n",
    "    1,9,25,49,81"
   ]
  },
  {
   "cell_type": "code",
   "execution_count": 3,
   "id": "atmospheric-acquisition",
   "metadata": {},
   "outputs": [
    {
     "name": "stdout",
     "output_type": "stream",
     "text": [
      "1,2,3,4,5,6,7,8,9\n",
      "1,4,16,25,49,64\n"
     ]
    }
   ],
   "source": [
    "lst = [str(int(i) ** 2) for i in input().split(',') if int(i) % 2]\n",
    "print(','.join(lst))"
   ]
  },
  {
   "cell_type": "code",
   "execution_count": 5,
   "id": "available-release",
   "metadata": {},
   "outputs": [
    {
     "name": "stdout",
     "output_type": "stream",
     "text": [
      "1,2,3,4,5,6,7,8,9\n",
      "1,9,25,49,81\n"
     ]
    }
   ],
   "source": [
    "lst = input().split(',')\n",
    "\n",
    "seq = []\n",
    "lst = [int(i) for i in lst]\n",
    "for i in lst:\n",
    "    if i % 2 != 0:\n",
    "        i = i ** 2\n",
    "        seq.append(i)\n",
    "        \n",
    "seq = [str(i) for i in seq]\n",
    "print(','.join(seq))"
   ]
  },
  {
   "cell_type": "markdown",
   "id": "latter-tribute",
   "metadata": {},
   "source": [
    "#### 17.Write a program that computes the net amount of a bank account based a transaction log from console input. The transaction log format is shown as following:\n",
    "\n",
    "    D 100\n",
    "    W 200\n",
    "    D means deposit while W means withdrawal.\n",
    "#### Suppose the following input is supplied to the program:\n",
    "\n",
    "    D 300\n",
    "    D 300\n",
    "    W 200\n",
    "    D 100\n",
    "#### Then, the output should be:\n",
    "\n",
    "    500"
   ]
  },
  {
   "cell_type": "code",
   "execution_count": 13,
   "id": "coordinate-highland",
   "metadata": {},
   "outputs": [
    {
     "name": "stdout",
     "output_type": "stream",
     "text": [
      "D 300\n",
      "D 300\n",
      "W 100\n",
      "D 200\n",
      "\n",
      "700\n"
     ]
    }
   ],
   "source": [
    "total = 0\n",
    "while True:\n",
    "    s = input().split()\n",
    "    if not s:\n",
    "        break\n",
    "    cm, num = map(\n",
    "        str, s\n",
    "    )\n",
    "    if cm == 'D':\n",
    "        total += int(num)\n",
    "    if cm == 'W':\n",
    "        total -= int(num)\n",
    "        \n",
    "print(total)"
   ]
  },
  {
   "cell_type": "code",
   "execution_count": null,
   "id": "expressed-arrangement",
   "metadata": {},
   "outputs": [],
   "source": []
  }
 ],
 "metadata": {
  "kernelspec": {
   "display_name": "Python 3",
   "language": "python",
   "name": "python3"
  },
  "language_info": {
   "codemirror_mode": {
    "name": "ipython",
    "version": 3
   },
   "file_extension": ".py",
   "mimetype": "text/x-python",
   "name": "python",
   "nbconvert_exporter": "python",
   "pygments_lexer": "ipython3",
   "version": "3.7.9"
  }
 },
 "nbformat": 4,
 "nbformat_minor": 5
}
