{
 "cells": [
  {
   "cell_type": "markdown",
   "id": "supreme-million",
   "metadata": {},
   "source": [
    "#### 47.Define a class named Circle which can be constructed by a radius. The Circle class has a method which can compute the area."
   ]
  },
  {
   "cell_type": "code",
   "execution_count": 2,
   "id": "electoral-bandwidth",
   "metadata": {},
   "outputs": [
    {
     "name": "stdout",
     "output_type": "stream",
     "text": [
      "12.56\n"
     ]
    }
   ],
   "source": [
    "class Circle(object):\n",
    "    def __init__(self, r):\n",
    "        self.radius = r\n",
    "\n",
    "    def area(self):\n",
    "        return self.radius**2*3.14\n",
    "\n",
    "aCircle = Circle(2)\n",
    "print(aCircle.area())"
   ]
  },
  {
   "cell_type": "code",
   "execution_count": null,
   "id": "structured-journey",
   "metadata": {},
   "outputs": [],
   "source": []
  }
 ],
 "metadata": {
  "kernelspec": {
   "display_name": "Python 3",
   "language": "python",
   "name": "python3"
  },
  "language_info": {
   "codemirror_mode": {
    "name": "ipython",
    "version": 3
   },
   "file_extension": ".py",
   "mimetype": "text/x-python",
   "name": "python",
   "nbconvert_exporter": "python",
   "pygments_lexer": "ipython3",
   "version": "3.7.9"
  }
 },
 "nbformat": 4,
 "nbformat_minor": 5
}
