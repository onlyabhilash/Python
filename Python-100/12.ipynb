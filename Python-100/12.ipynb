{
 "cells": [
  {
   "cell_type": "markdown",
   "id": "asian-sullivan",
   "metadata": {},
   "source": [
    "#### 44.Write a program which can map() to make a list whose elements are square of numbers between 1 and 20 (both included)."
   ]
  },
  {
   "cell_type": "code",
   "execution_count": 3,
   "id": "patent-lightweight",
   "metadata": {},
   "outputs": [
    {
     "name": "stdout",
     "output_type": "stream",
     "text": [
      "<map object at 0x000002AF02131748>\n"
     ]
    }
   ],
   "source": [
    "squaredNumbers = map(lambda x : x**2,range(1,21))\n",
    "print(squaredNumbers)"
   ]
  },
  {
   "cell_type": "code",
   "execution_count": 6,
   "id": "distinguished-apparel",
   "metadata": {},
   "outputs": [
    {
     "name": "stdout",
     "output_type": "stream",
     "text": [
      "<map object at 0x000002AF02163B08>\n"
     ]
    }
   ],
   "source": [
    "def sqr(x):\n",
    "    return x**2\n",
    "\n",
    "squaredNumbers = map(sqr,range(1,21))\n",
    "print(squaredNumbers)"
   ]
  },
  {
   "cell_type": "markdown",
   "id": "infrared-watershed",
   "metadata": {},
   "source": [
    "#### 45.Define a class named American which has a static method called printNationality."
   ]
  },
  {
   "cell_type": "code",
   "execution_count": 7,
   "id": "animated-postage",
   "metadata": {},
   "outputs": [
    {
     "name": "stdout",
     "output_type": "stream",
     "text": [
      "I am American\n",
      "I am American\n"
     ]
    }
   ],
   "source": [
    "class American():\n",
    "    @staticmethod\n",
    "    def printNationality():\n",
    "        print(\"I am American\")\n",
    "\n",
    "american = American()\n",
    "american.printNationality()   # this will not run if @staticmethod does not decorates the function.\n",
    "                              # Because the class has no instance.\n",
    "\n",
    "American.printNationality()   # this will run even though the @staticmethod\n",
    "                              # does not decorate printNationality()"
   ]
  },
  {
   "cell_type": "markdown",
   "id": "happy-proxy",
   "metadata": {},
   "source": [
    "#### 46.Define a class named American and its subclass NewYorker."
   ]
  },
  {
   "cell_type": "code",
   "execution_count": 8,
   "id": "tough-punishment",
   "metadata": {},
   "outputs": [
    {
     "name": "stdout",
     "output_type": "stream",
     "text": [
      "<__main__.American object at 0x000002AF01FA2D08>\n",
      "<__main__.NewYorker object at 0x000002AF01FA2CC8>\n"
     ]
    }
   ],
   "source": [
    "class American():\n",
    "    pass\n",
    "\n",
    "class NewYorker(American):\n",
    "    pass\n",
    "\n",
    "american = American()\n",
    "newyorker = NewYorker()\n",
    "\n",
    "print(american)\n",
    "print(newyorker)"
   ]
  },
  {
   "cell_type": "code",
   "execution_count": null,
   "id": "speaking-psychiatry",
   "metadata": {},
   "outputs": [],
   "source": []
  }
 ],
 "metadata": {
  "kernelspec": {
   "display_name": "Python 3",
   "language": "python",
   "name": "python3"
  },
  "language_info": {
   "codemirror_mode": {
    "name": "ipython",
    "version": 3
   },
   "file_extension": ".py",
   "mimetype": "text/x-python",
   "name": "python",
   "nbconvert_exporter": "python",
   "pygments_lexer": "ipython3",
   "version": "3.7.9"
  }
 },
 "nbformat": 4,
 "nbformat_minor": 5
}
