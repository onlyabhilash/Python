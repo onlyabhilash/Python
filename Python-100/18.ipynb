{
 "cells": [
  {
   "cell_type": "markdown",
   "id": "prepared-brazilian",
   "metadata": {},
   "source": [
    "#### 70.Please write a program to output a random even number between 0 and 10 inclusive using random module and list comprehension.\n",
    "\n",
    "#### Hints\n",
    "Use random.choice() to a random element from a list."
   ]
  },
  {
   "cell_type": "code",
   "execution_count": 3,
   "id": "decent-auditor",
   "metadata": {},
   "outputs": [
    {
     "name": "stdout",
     "output_type": "stream",
     "text": [
      "10\n"
     ]
    }
   ],
   "source": [
    "import random\n",
    "\n",
    "resp = [i for i in range(0, 11, 2)]\n",
    "print(random.choice(resp))"
   ]
  },
  {
   "cell_type": "markdown",
   "id": "killing-rolling",
   "metadata": {},
   "source": [
    "#### 71.Please write a program to output a random number, which is divisible by 5 and 7, between 10 and 150 inclusive using random module and list comprehension.\n",
    "\n",
    "#### Hints\n",
    "Use random.choice() to a random element from a list."
   ]
  },
  {
   "cell_type": "code",
   "execution_count": 7,
   "id": "champion-monaco",
   "metadata": {},
   "outputs": [
    {
     "name": "stdout",
     "output_type": "stream",
     "text": [
      "70\n"
     ]
    }
   ],
   "source": [
    "import random\n",
    "\n",
    "resp = [i for i in range(10, 151) if i % 35 == 0]\n",
    "print(random.choice(resp))"
   ]
  },
  {
   "cell_type": "markdown",
   "id": "basic-evolution",
   "metadata": {},
   "source": [
    "#### 72.Please write a program to generate a list with 5 random numbers between 100 and 200 inclusive.\n",
    "\n",
    "#### Hints\n",
    "Use random.sample() to generate a list of random values."
   ]
  },
  {
   "cell_type": "code",
   "execution_count": 9,
   "id": "flush-concrete",
   "metadata": {},
   "outputs": [
    {
     "name": "stdout",
     "output_type": "stream",
     "text": [
      "[127, 173, 115, 100, 155]\n"
     ]
    }
   ],
   "source": [
    "import random\n",
    "\n",
    "resp = random.sample(range(100, 201),5)\n",
    "print(resp)"
   ]
  },
  {
   "cell_type": "markdown",
   "id": "ethical-conviction",
   "metadata": {},
   "source": [
    "#### 73.Please write a program to randomly generate a list with 5 even numbers between 100 and 200 inclusive.\n",
    "\n",
    "#### Hints\n",
    "Use random.sample() to generate a list of random values."
   ]
  },
  {
   "cell_type": "code",
   "execution_count": 11,
   "id": "revised-worker",
   "metadata": {},
   "outputs": [
    {
     "name": "stdout",
     "output_type": "stream",
     "text": [
      "[174, 198, 200, 148, 138]\n"
     ]
    }
   ],
   "source": [
    "import random\n",
    "\n",
    "resp = random.sample(range(100, 201, 2),5)\n",
    "print(resp)"
   ]
  },
  {
   "cell_type": "markdown",
   "id": "seventh-airline",
   "metadata": {},
   "source": [
    "#### 74.Please write a program to randomly generate a list with 5 numbers, which are divisible by 5 and 7 , between 1 and 1000 inclusive.\n",
    "\n",
    "#### Hints\n",
    "Use random.sample() to generate a list of random values."
   ]
  },
  {
   "cell_type": "code",
   "execution_count": 13,
   "id": "aware-stevens",
   "metadata": {},
   "outputs": [
    {
     "name": "stdout",
     "output_type": "stream",
     "text": [
      "[140, 700, 35, 490, 735]\n"
     ]
    }
   ],
   "source": [
    "import random\n",
    "\n",
    "lst = [i for i in range(1, 1001) if i % 35 == 0]\n",
    "resp = random.sample(lst, 5)\n",
    "print(resp)"
   ]
  },
  {
   "cell_type": "code",
   "execution_count": null,
   "id": "eastern-howard",
   "metadata": {},
   "outputs": [],
   "source": []
  }
 ],
 "metadata": {
  "kernelspec": {
   "display_name": "Python 3",
   "language": "python",
   "name": "python3"
  },
  "language_info": {
   "codemirror_mode": {
    "name": "ipython",
    "version": 3
   },
   "file_extension": ".py",
   "mimetype": "text/x-python",
   "name": "python",
   "nbconvert_exporter": "python",
   "pygments_lexer": "ipython3",
   "version": "3.7.9"
  }
 },
 "nbformat": 4,
 "nbformat_minor": 5
}
