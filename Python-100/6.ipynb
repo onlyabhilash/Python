{
 "cells": [
  {
   "cell_type": "markdown",
   "id": "accepted-immigration",
   "metadata": {},
   "source": [
    "#### 18.A website requires the users to input username and password to register. Write a program to check the validity of password input by users.\n",
    "\n",
    "#### Following are the criteria for checking the password:\n",
    "\n",
    "    At least 1 letter between [a-z]\n",
    "    At least 1 number between [0-9]\n",
    "    At least 1 letter between [A-Z]\n",
    "    At least 1 character from [$#@]\n",
    "    Minimum length of transaction password: 6\n",
    "    Maximum length of transaction password: 12\n",
    "\n",
    "#### Your program should accept a sequence of comma separated passwords and will check them according to the above criteria. Passwords that match the criteria are to be printed, each separated by a comma.\n",
    "\n",
    "#### Example\n",
    "\n",
    "#### If the following passwords are given as input to the program:\n",
    "\n",
    "#### ABd1234@1,a F1#,2w3E*,2We3345\n",
    "\n",
    "#### Then, the output of the program should be:\n",
    "\n",
    "#### ABd1234@1"
   ]
  },
  {
   "cell_type": "code",
   "execution_count": null,
   "id": "massive-subscription",
   "metadata": {},
   "outputs": [],
   "source": []
  }
 ],
 "metadata": {
  "kernelspec": {
   "display_name": "Python 3",
   "language": "python",
   "name": "python3"
  },
  "language_info": {
   "codemirror_mode": {
    "name": "ipython",
    "version": 3
   },
   "file_extension": ".py",
   "mimetype": "text/x-python",
   "name": "python",
   "nbconvert_exporter": "python",
   "pygments_lexer": "ipython3",
   "version": "3.7.9"
  }
 },
 "nbformat": 4,
 "nbformat_minor": 5
}
