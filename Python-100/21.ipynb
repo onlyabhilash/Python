{
 "cells": [
  {
   "cell_type": "markdown",
   "id": "confident-composite",
   "metadata": {},
   "source": [
    "#### 85.By using list comprehension, please write a program to print the list after removing the 0th,4th,5th numbers in [12,24,35,70,88,120,155]."
   ]
  },
  {
   "cell_type": "code",
   "execution_count": 1,
   "id": "olive-parameter",
   "metadata": {},
   "outputs": [
    {
     "name": "stdout",
     "output_type": "stream",
     "text": [
      "[24, 35, 70, 155]\n"
     ]
    }
   ],
   "source": [
    "li = [12, 24, 35, 70, 88, 120, 155]\n",
    "\n",
    "li = [li[i] for i in range(len(li)) if i not in (0,4,5)]\n",
    "print(li)"
   ]
  },
  {
   "cell_type": "code",
   "execution_count": null,
   "id": "sitting-anime",
   "metadata": {},
   "outputs": [],
   "source": [
    "#### 86."
   ]
  }
 ],
 "metadata": {
  "kernelspec": {
   "display_name": "Python 3",
   "language": "python",
   "name": "python3"
  },
  "language_info": {
   "codemirror_mode": {
    "name": "ipython",
    "version": 3
   },
   "file_extension": ".py",
   "mimetype": "text/x-python",
   "name": "python",
   "nbconvert_exporter": "python",
   "pygments_lexer": "ipython3",
   "version": "3.7.9"
  }
 },
 "nbformat": 4,
 "nbformat_minor": 5
}
