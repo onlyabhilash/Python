{
 "cells": [
  {
   "cell_type": "markdown",
   "id": "honey-cincinnati",
   "metadata": {},
   "source": [
    "#### 85.By using list comprehension, please write a program to print the list after removing the 0th,4th,5th numbers in [12,24,35,70,88,120,155]."
   ]
  },
  {
   "cell_type": "code",
   "execution_count": 1,
   "id": "attractive-fountain",
   "metadata": {},
   "outputs": [
    {
     "name": "stdout",
     "output_type": "stream",
     "text": [
      "[24, 35, 70, 155]\n"
     ]
    }
   ],
   "source": [
    "li = [12, 24, 35, 70, 88, 120, 155]\n",
    "\n",
    "li = [li[i] for i in range(len(li)) if i not in (0,4,5)]\n",
    "print(li)"
   ]
  },
  {
   "cell_type": "markdown",
   "id": "former-forty",
   "metadata": {},
   "source": [
    "#### 86.By using list comprehension, please write a program to print the list after removing the value 24 in [12,24,35,24,88,120,155]."
   ]
  },
  {
   "cell_type": "code",
   "execution_count": 2,
   "id": "round-praise",
   "metadata": {},
   "outputs": [
    {
     "name": "stdout",
     "output_type": "stream",
     "text": [
      "[12, 35, 24, 88, 120, 155]\n"
     ]
    }
   ],
   "source": [
    "li = [12, 24, 35, 24, 88, 120, 155]\n",
    "li.remove(24)  # this will remove only the first occurrence of 24\n",
    "print(li)"
   ]
  },
  {
   "cell_type": "markdown",
   "id": "united-baghdad",
   "metadata": {},
   "source": [
    "#### 87.With two given lists [1,3,6,78,35,55] and [12,24,35,24,88,120,155], write a program to make a list whose elements are intersection of the above given lists."
   ]
  },
  {
   "cell_type": "code",
   "execution_count": 3,
   "id": "based-maryland",
   "metadata": {},
   "outputs": [
    {
     "name": "stdout",
     "output_type": "stream",
     "text": [
      "{35}\n"
     ]
    }
   ],
   "source": [
    "list1 = [1, 3, 6, 78, 35, 55]\n",
    "list2 = [12, 24, 35, 24, 88, 120, 155]\n",
    "set1 = set(list1)\n",
    "set2 = set(list2)\n",
    "intersection = set1 & set2\n",
    "print(intersection)"
   ]
  },
  {
   "cell_type": "code",
   "execution_count": 5,
   "id": "heard-capitol",
   "metadata": {},
   "outputs": [
    {
     "name": "stdout",
     "output_type": "stream",
     "text": [
      "{35}\n"
     ]
    }
   ],
   "source": [
    "list1 = [1, 3, 6, 78, 35, 55]\n",
    "list2 = [12, 24, 35, 24, 88, 120, 155]\n",
    "set1 = set(list1)\n",
    "set2 = set(list2)\n",
    "intersection = set.intersection(set1, set2)\n",
    "print(intersection)"
   ]
  },
  {
   "cell_type": "markdown",
   "id": "solved-depth",
   "metadata": {},
   "source": [
    "#### 88.With a given list [12,24,35,24,88,120,155,88,120,155], write a program to print this list after removing all duplicate values with original order reserved."
   ]
  },
  {
   "cell_type": "code",
   "execution_count": 7,
   "id": "together-electron",
   "metadata": {},
   "outputs": [
    {
     "name": "stdout",
     "output_type": "stream",
     "text": [
      "[12, 35, 24, 88, 120, 155]\n"
     ]
    }
   ],
   "source": [
    "li = [12, 24, 35, 24, 88, 120, 155, 88, 120, 155]\n",
    "for i in li:\n",
    "    if li.count(i) > 1:\n",
    "        li.remove(i)\n",
    "print(li)"
   ]
  },
  {
   "cell_type": "code",
   "execution_count": 17,
   "id": "independent-binary",
   "metadata": {},
   "outputs": [
    {
     "name": "stdout",
     "output_type": "stream",
     "text": [
      "True\n",
      "True\n",
      "True\n",
      "True\n",
      "True\n",
      "True\n",
      "[12, 24, 35, 88, 120, 155]\n"
     ]
    }
   ],
   "source": [
    "def removeDuplicate(li):\n",
    "    seen = {} #dictionary\n",
    "    for item in li:\n",
    "        if item not in seen:\n",
    "            #print(seen[item])\n",
    "            seen[item] = True\n",
    "            print(seen[item])\n",
    "            yield item\n",
    "            \n",
    "li = [12, 24, 35, 24, 88, 120, 155, 88, 120, 155]\n",
    "ans = list(removeDuplicate(li))\n",
    "print(ans)"
   ]
  },
  {
   "cell_type": "markdown",
   "id": "theoretical-struggle",
   "metadata": {},
   "source": [
    "#### 89.Define a class Person and its two child classes: Male and Female. All classes have a method \"getGender\" which can print \"Male\" for Male class and \"Female\" for Female class."
   ]
  },
  {
   "cell_type": "code",
   "execution_count": null,
   "id": "focal-joint",
   "metadata": {},
   "outputs": [],
   "source": [
    "class Person(object):\n",
    "    def getGender(self):\n",
    "        return \"Unknown\"\n",
    "    \n",
    "class Male(Person):\n",
    "    def getGender(self):\n",
    "        return 'Male'\n",
    "    \n",
    "class Female(Person):\n",
    "    def getGender(self):\n",
    "        return 'Female'\n",
    "    \n",
    "aMale = Male()\n",
    "aFemale = Female()\n",
    "aPerson = Person()\n",
    "print(aMale.getGender())\n",
    "print(aFemale.getGender())\n",
    "print(aPerson.getGender())"
   ]
  },
  {
   "cell_type": "code",
   "execution_count": null,
   "id": "musical-contamination",
   "metadata": {},
   "outputs": [],
   "source": []
  }
 ],
 "metadata": {
  "kernelspec": {
   "display_name": "Python 3",
   "language": "python",
   "name": "python3"
  },
  "language_info": {
   "codemirror_mode": {
    "name": "ipython",
    "version": 3
   },
   "file_extension": ".py",
   "mimetype": "text/x-python",
   "name": "python",
   "nbconvert_exporter": "python",
   "pygments_lexer": "ipython3",
   "version": "3.7.9"
  }
 },
 "nbformat": 4,
 "nbformat_minor": 5
}
