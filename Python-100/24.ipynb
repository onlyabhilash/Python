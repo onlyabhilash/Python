{
 "cells": [
  {
   "cell_type": "markdown",
   "id": "instant-transsexual",
   "metadata": {},
   "source": [
    "#### 100.You are given words. Some words may repeat. For each word, output its number of occurrences. The output order should correspond with the input order of appearance of the word. See the sample input/output for clarification.\n",
    "\n",
    "If the following string is given as input to the program:\n",
    "\n",
    "    4\n",
    "    bcdef\n",
    "    abcdefg\n",
    "    bcde\n",
    "    bcdef\n",
    "\n",
    "Then, the output of the program should be:\n",
    "\n",
    "    3\n",
    "    2 1 1"
   ]
  },
  {
   "cell_type": "code",
   "execution_count": 1,
   "id": "continuing-apparel",
   "metadata": {},
   "outputs": [
    {
     "name": "stdout",
     "output_type": "stream",
     "text": [
      "4\n",
      "bcdef\n",
      "abcdefg\n",
      "bcde\n",
      "bcdef\n",
      "3\n",
      "2 1 1 "
     ]
    }
   ],
   "source": [
    "n = int(input())\n",
    "\n",
    "word_list = []\n",
    "word_dict = {}\n",
    "\n",
    "for i in range(n):\n",
    "    word = input()\n",
    "    if word not in word_dict:\n",
    "        word_list.append(word)\n",
    "    word_dict[word] = word_dict.get(word, 0) + 1\n",
    "\n",
    "print(len(word_list))\n",
    "for word in word_list:\n",
    "    print(word_dict[word], end=' ')"
   ]
  },
  {
   "cell_type": "markdown",
   "id": "wrong-ideal",
   "metadata": {},
   "source": [
    "#### 101.You are given a string.Your task is to count the frequency of letters of the string and print the letters in descending order of frequency.\n",
    "\n",
    "If the following string is given as input to the program:\n",
    "\n",
    "aabbbccde\n",
    "\n",
    "Then, the output of the program should be:\n",
    "\n",
    "    b 3\n",
    "    a 2\n",
    "    c 2\n",
    "    d 1\n",
    "    e 1"
   ]
  },
  {
   "cell_type": "code",
   "execution_count": 2,
   "id": "serious-helicopter",
   "metadata": {},
   "outputs": [
    {
     "name": "stdout",
     "output_type": "stream",
     "text": [
      "aabbbccde\n",
      "b 3\n",
      "a 2\n",
      "c 2\n",
      "d 1\n",
      "e 1\n"
     ]
    }
   ],
   "source": [
    "word = input()\n",
    "dct = {}\n",
    "for i in word:\n",
    "    dct[i] = dct.get(i,0) + 1\n",
    "\n",
    "dct = sorted(dct.items(),key=lambda x: (-x[1],x[0]))\n",
    "for i in dct:\n",
    "    print(i[0],i[1])"
   ]
  },
  {
   "cell_type": "code",
   "execution_count": 3,
   "id": "balanced-hardwood",
   "metadata": {},
   "outputs": [
    {
     "name": "stdout",
     "output_type": "stream",
     "text": [
      "aabbbccde\n",
      "b 3\n",
      "a 2\n",
      "c 2\n",
      "d 1\n",
      "e 1\n"
     ]
    }
   ],
   "source": [
    "X = input()\n",
    "my_set = set(X)\n",
    "arr = []\n",
    "for item in my_set:\n",
    "    arr.append([item,X.count(item)])\n",
    "tmp = sorted(arr,key = lambda x: (-x[1],x[0]))\n",
    "\n",
    "for i in tmp:\n",
    "    print(i[0]+' '+str(i[1]))"
   ]
  },
  {
   "cell_type": "code",
   "execution_count": 4,
   "id": "square-moses",
   "metadata": {},
   "outputs": [
    {
     "name": "stdout",
     "output_type": "stream",
     "text": [
      "aabbbccde\n",
      "b 3\n",
      "a 2\n",
      "c 2\n",
      "d 1\n",
      "e 1\n"
     ]
    }
   ],
   "source": [
    "s = list(input())\n",
    "\n",
    "dict_count_ = {k:s.count(k) for k in s}\n",
    "list_of_tuples = [(k,v) for k,v in dict_count_.items()]\n",
    "list_of_tuples.sort(key = lambda x: x[1], reverse = True)\n",
    "\n",
    "for item in list_of_tuples:\n",
    "  print(item[0], item[1])"
   ]
  },
  {
   "cell_type": "code",
   "execution_count": null,
   "id": "outdoor-physics",
   "metadata": {},
   "outputs": [],
   "source": []
  }
 ],
 "metadata": {
  "kernelspec": {
   "display_name": "Python 3",
   "language": "python",
   "name": "python3"
  },
  "language_info": {
   "codemirror_mode": {
    "name": "ipython",
    "version": 3
   },
   "file_extension": ".py",
   "mimetype": "text/x-python",
   "name": "python",
   "nbconvert_exporter": "python",
   "pygments_lexer": "ipython3",
   "version": "3.7.9"
  }
 },
 "nbformat": 4,
 "nbformat_minor": 5
}
