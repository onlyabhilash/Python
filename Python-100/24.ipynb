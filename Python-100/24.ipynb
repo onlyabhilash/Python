{
 "cells": [
  {
   "cell_type": "markdown",
   "id": "naval-hormone",
   "metadata": {},
   "source": [
    "#### 100.You are given words. Some words may repeat. For each word, output its number of occurrences. The output order should correspond with the input order of appearance of the word. See the sample input/output for clarification.\n",
    "\n",
    "If the following string is given as input to the program:\n",
    "\n",
    "#### 4\n",
    "#### bcdef\n",
    "#### abcdefg\n",
    "#### bcde\n",
    "#### bcdef\n",
    "\n",
    "Then, the output of the program should be:\n",
    "\n",
    "#### 3\n",
    "2 1 1"
   ]
  },
  {
   "cell_type": "code",
   "execution_count": 1,
   "id": "monthly-rubber",
   "metadata": {},
   "outputs": [
    {
     "name": "stdout",
     "output_type": "stream",
     "text": [
      "4\n",
      "bcdef\n",
      "abcdefg\n",
      "bcde\n",
      "bcdef\n",
      "3\n",
      "2 1 1 "
     ]
    }
   ],
   "source": [
    "n = int(input())\n",
    "\n",
    "word_list = []\n",
    "word_dict = {}\n",
    "\n",
    "for i in range(n):\n",
    "    word = input()\n",
    "    if word not in word_dict:\n",
    "        word_list.append(word)\n",
    "    word_dict[word] = word_dict.get(word, 0) + 1\n",
    "\n",
    "print(len(word_list))\n",
    "for word in word_list:\n",
    "    print(word_dict[word], end=' ')"
   ]
  },
  {
   "cell_type": "code",
   "execution_count": null,
   "id": "strategic-coordinator",
   "metadata": {},
   "outputs": [],
   "source": []
  }
 ],
 "metadata": {
  "kernelspec": {
   "display_name": "Python 3",
   "language": "python",
   "name": "python3"
  },
  "language_info": {
   "codemirror_mode": {
    "name": "ipython",
    "version": 3
   },
   "file_extension": ".py",
   "mimetype": "text/x-python",
   "name": "python",
   "nbconvert_exporter": "python",
   "pygments_lexer": "ipython3",
   "version": "3.7.9"
  }
 },
 "nbformat": 4,
 "nbformat_minor": 5
}
