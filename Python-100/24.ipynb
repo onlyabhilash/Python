{
 "cells": [
  {
   "cell_type": "markdown",
   "id": "sunset-maintenance",
   "metadata": {},
   "source": [
    "#### 100.You are given words. Some words may repeat. For each word, output its number of occurrences. The output order should correspond with the input order of appearance of the word. See the sample input/output for clarification.\n",
    "\n",
    "If the following string is given as input to the program:\n",
    "\n",
    "    4\n",
    "    bcdef\n",
    "    abcdefg\n",
    "    bcde\n",
    "    bcdef\n",
    "\n",
    "Then, the output of the program should be:\n",
    "\n",
    "    3\n",
    "    2 1 1"
   ]
  },
  {
   "cell_type": "code",
   "execution_count": 1,
   "id": "opposed-affairs",
   "metadata": {},
   "outputs": [
    {
     "name": "stdout",
     "output_type": "stream",
     "text": [
      "4\n",
      "bcdef\n",
      "abcdefg\n",
      "bcde\n",
      "bcdef\n",
      "3\n",
      "2 1 1 "
     ]
    }
   ],
   "source": [
    "n = int(input())\n",
    "\n",
    "word_list = []\n",
    "word_dict = {}\n",
    "\n",
    "for i in range(n):\n",
    "    word = input()\n",
    "    if word not in word_dict:\n",
    "        word_list.append(word)\n",
    "    word_dict[word] = word_dict.get(word, 0) + 1\n",
    "\n",
    "print(len(word_list))\n",
    "for word in word_list:\n",
    "    print(word_dict[word], end=' ')"
   ]
  },
  {
   "cell_type": "markdown",
   "id": "anonymous-arrangement",
   "metadata": {},
   "source": [
    "#### 101.You are given a string.Your task is to count the frequency of letters of the string and print the letters in descending order of frequency.\n",
    "\n",
    "If the following string is given as input to the program:\n",
    "\n",
    "aabbbccde\n",
    "\n",
    "Then, the output of the program should be:\n",
    "\n",
    "    b 3\n",
    "    a 2\n",
    "    c 2\n",
    "    d 1\n",
    "    e 1"
   ]
  },
  {
   "cell_type": "code",
   "execution_count": 2,
   "id": "adapted-county",
   "metadata": {},
   "outputs": [
    {
     "name": "stdout",
     "output_type": "stream",
     "text": [
      "aabbbccde\n",
      "b 3\n",
      "a 2\n",
      "c 2\n",
      "d 1\n",
      "e 1\n"
     ]
    }
   ],
   "source": [
    "word = input()\n",
    "dct = {}\n",
    "for i in word:\n",
    "    dct[i] = dct.get(i,0) + 1\n",
    "\n",
    "dct = sorted(dct.items(),key=lambda x: (-x[1],x[0]))\n",
    "for i in dct:\n",
    "    print(i[0],i[1])"
   ]
  },
  {
   "cell_type": "code",
   "execution_count": 3,
   "id": "willing-teddy",
   "metadata": {},
   "outputs": [
    {
     "name": "stdout",
     "output_type": "stream",
     "text": [
      "aabbbccde\n",
      "b 3\n",
      "a 2\n",
      "c 2\n",
      "d 1\n",
      "e 1\n"
     ]
    }
   ],
   "source": [
    "X = input()\n",
    "my_set = set(X)\n",
    "arr = []\n",
    "for item in my_set:\n",
    "    arr.append([item,X.count(item)])\n",
    "tmp = sorted(arr,key = lambda x: (-x[1],x[0]))\n",
    "\n",
    "for i in tmp:\n",
    "    print(i[0]+' '+str(i[1]))"
   ]
  },
  {
   "cell_type": "code",
   "execution_count": 4,
   "id": "thirty-restaurant",
   "metadata": {},
   "outputs": [
    {
     "name": "stdout",
     "output_type": "stream",
     "text": [
      "aabbbccde\n",
      "b 3\n",
      "a 2\n",
      "c 2\n",
      "d 1\n",
      "e 1\n"
     ]
    }
   ],
   "source": [
    "s = list(input())\n",
    "\n",
    "dict_count_ = {k:s.count(k) for k in s}\n",
    "list_of_tuples = [(k,v) for k,v in dict_count_.items()]\n",
    "list_of_tuples.sort(key = lambda x: x[1], reverse = True)\n",
    "\n",
    "for item in list_of_tuples:\n",
    "  print(item[0], item[1])"
   ]
  },
  {
   "cell_type": "markdown",
   "id": "proud-protest",
   "metadata": {},
   "source": [
    "#### 102.Write a Python program that accepts a string and calculate the number of digits and letters.\n",
    "\n",
    "    i/p:\n",
    "        Hello321Bye360\n",
    "    \n",
    "    o/p:\n",
    "        Digit - 6\n",
    "        Letter - 8"
   ]
  },
  {
   "cell_type": "code",
   "execution_count": 1,
   "id": "decimal-counter",
   "metadata": {},
   "outputs": [
    {
     "name": "stdout",
     "output_type": "stream",
     "text": [
      "Hello321Bye360\n",
      "Digit - 6\n",
      "Letter - 8\n"
     ]
    }
   ],
   "source": [
    "word = input()\n",
    "digit,letter = 0,0\n",
    "for char in word:\n",
    "    digit+=char.isdigit()\n",
    "    letter+=char.isalpha()\n",
    "\n",
    "print('Digit -',digit)\n",
    "print('Letter -',letter)"
   ]
  },
  {
   "cell_type": "markdown",
   "id": "medium-syntax",
   "metadata": {},
   "source": [
    "#### 103.Given a number N.Find Sum of 1 to N Using Recursion\n",
    "\n",
    "    input :\n",
    "    5\n",
    "    \n",
    "    o/p:\n",
    "    15"
   ]
  },
  {
   "cell_type": "code",
   "execution_count": 2,
   "id": "diverse-walnut",
   "metadata": {},
   "outputs": [
    {
     "name": "stdout",
     "output_type": "stream",
     "text": [
      "5\n",
      "15\n"
     ]
    }
   ],
   "source": [
    "def rec(n):\n",
    "    if n == 0:\n",
    "        return n\n",
    "    return rec(n-1) + n\n",
    "\n",
    "\n",
    "n = int(input())\n",
    "sum = rec(n)\n",
    "print(sum)"
   ]
  },
  {
   "cell_type": "code",
   "execution_count": 3,
   "id": "medical-league",
   "metadata": {},
   "outputs": [
    {
     "name": "stdout",
     "output_type": "stream",
     "text": [
      "> 5\n",
      "15\n"
     ]
    }
   ],
   "source": [
    "def summer(counter, n, current):\n",
    "    if n == 0:\n",
    "        return 0\n",
    "    if counter == n:\n",
    "        return current+n\n",
    "    else:\n",
    "        current = current + counter\n",
    "        counter += 1\n",
    "        return summer(counter, n, current)\n",
    "\n",
    "\n",
    "N = int(input(\"> \"))\n",
    "print(summer(1, N, 0))"
   ]
  },
  {
   "cell_type": "code",
   "execution_count": null,
   "id": "adolescent-psychiatry",
   "metadata": {},
   "outputs": [],
   "source": []
  }
 ],
 "metadata": {
  "kernelspec": {
   "display_name": "Python 3",
   "language": "python",
   "name": "python3"
  },
  "language_info": {
   "codemirror_mode": {
    "name": "ipython",
    "version": 3
   },
   "file_extension": ".py",
   "mimetype": "text/x-python",
   "name": "python",
   "nbconvert_exporter": "python",
   "pygments_lexer": "ipython3",
   "version": "3.7.9"
  }
 },
 "nbformat": 4,
 "nbformat_minor": 5
}
