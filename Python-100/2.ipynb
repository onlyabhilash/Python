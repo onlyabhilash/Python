{
 "cells": [
  {
   "cell_type": "markdown",
   "id": "cooked-latitude",
   "metadata": {},
   "source": [
    "#### 4.Write a program which accepts a sequence of comma-separated numbers from console and generate a list and a tuple which contains every number.Suppose the following input is supplied to the program:\n",
    "\n",
    "34,67,55,33,12,98\n",
    "\n",
    "Then, the output should be:\n",
    "\n",
    "['34', '67', '55', '33', '12', '98'] ('34', '67', '55', '33', '12', '98')"
   ]
  },
  {
   "cell_type": "code",
   "execution_count": 1,
   "id": "periodic-momentum",
   "metadata": {},
   "outputs": [
    {
     "name": "stdout",
     "output_type": "stream",
     "text": [
      "34,67,55,33,12,98\n",
      "['34', '67', '55', '33', '12', '98']\n",
      "('34', '67', '55', '33', '12', '98')\n"
     ]
    }
   ],
   "source": [
    "lst = input().split(',')\n",
    "tpl = tuple(lst)\n",
    "\n",
    "print(lst)\n",
    "print(tpl)"
   ]
  },
  {
   "cell_type": "markdown",
   "id": "activated-amsterdam",
   "metadata": {},
   "source": [
    "#### 5.Define a class which has at least two methods:\n",
    "\n",
    "    .getString: to get a string from console input\n",
    "    .printString: to print the string in upper case.\n",
    "#### Also please include simple test function to test the class methods."
   ]
  },
  {
   "cell_type": "code",
   "execution_count": 4,
   "id": "damaged-miniature",
   "metadata": {},
   "outputs": [
    {
     "name": "stdout",
     "output_type": "stream",
     "text": [
      "abc\n",
      "ABC\n"
     ]
    }
   ],
   "source": [
    "class IOString:\n",
    "    def __init__(self):\n",
    "        pass\n",
    "    \n",
    "    def get_string(self):\n",
    "        self.s = input()\n",
    "        \n",
    "    def print_string(self):\n",
    "        print(self.s.upper())\n",
    "        \n",
    "xx = IOString()\n",
    "xx.get_string()\n",
    "xx.print_string()"
   ]
  },
  {
   "cell_type": "markdown",
   "id": "israeli-exclusion",
   "metadata": {},
   "source": [
    "#### 6.Write a program that calculates and prints the value according to the given formula:\n",
    "\n",
    "#### Q = Square root of [(2 C D)/H]\n",
    "\n",
    "#### Following are the fixed values of C and H:\n",
    "\n",
    "#### C is 50. H is 30.\n",
    "\n",
    "#### D is the variable whose values should be input to your program in a comma-separated sequence.For example Let us assume the following comma separated input sequence is given to the program:\n",
    "\n",
    "    100,150,180\n",
    "\n",
    "#### The output of the program should be:\n",
    "\n",
    "    18,22,24"
   ]
  },
  {
   "cell_type": "code",
   "execution_count": 6,
   "id": "numeric-cuisine",
   "metadata": {},
   "outputs": [
    {
     "name": "stdout",
     "output_type": "stream",
     "text": [
      "100,150,180\n",
      "18,22,24\n"
     ]
    }
   ],
   "source": [
    "from math import sqrt\n",
    "\n",
    "C,H = 50,30\n",
    "\n",
    "def calc(D):\n",
    "    return sqrt((2 * C * D)/H)\n",
    "\n",
    "D = [int(i) for i in input().split(',')]\n",
    "D = [int(i) for i in D]\n",
    "D = [calc(i) for i in D]\n",
    "D = [round(i) for i in D]\n",
    "D = [str(i) for i in D]\n",
    "print(','.join(D))"
   ]
  },
  {
   "cell_type": "code",
   "execution_count": 11,
   "id": "unable-province",
   "metadata": {},
   "outputs": [
    {
     "name": "stdout",
     "output_type": "stream",
     "text": [
      "100,150,180\n",
      "18,22,24\n"
     ]
    }
   ],
   "source": [
    "from math import sqrt\n",
    "\n",
    "C,H = 50,30\n",
    "\n",
    "def calc(D):\n",
    "    return sqrt((2 * C * D)/H)\n",
    "\n",
    "D = input().split(',')\n",
    "D = [\n",
    "   str(round(calc(int(i)))) for i in D\n",
    "]\n",
    "\n",
    "print(','.join(D))"
   ]
  },
  {
   "cell_type": "code",
   "execution_count": 14,
   "id": "circular-providence",
   "metadata": {},
   "outputs": [
    {
     "name": "stdout",
     "output_type": "stream",
     "text": [
      "100,150,180\n",
      "18,22,24\n"
     ]
    }
   ],
   "source": [
    "from math import sqrt\n",
    "\n",
    "C,H = 50,30\n",
    "\n",
    "def calc(D):\n",
    "    return sqrt((2 * C * D)/H)\n",
    "\n",
    "print(','.join([str(round(calc(int(i)))) for i in input().split(',')]))"
   ]
  },
  {
   "cell_type": "code",
   "execution_count": 26,
   "id": "greenhouse-colon",
   "metadata": {},
   "outputs": [
    {
     "name": "stdout",
     "output_type": "stream",
     "text": [
      "100,150,180\n",
      "18,22,24\n"
     ]
    }
   ],
   "source": [
    "from math import sqrt\n",
    "\n",
    "C,H = 50,30\n",
    "\n",
    "def calc(D):\n",
    "    D = int(D)\n",
    "    return str(int(sqrt((2 * C * D)/H)))\n",
    "\n",
    "D = input().split(',')\n",
    "D = list(map(calc,D)) # applying calc function on D and storing as a list\n",
    "print(','.join(D))"
   ]
  },
  {
   "cell_type": "markdown",
   "id": "adjacent-monitoring",
   "metadata": {},
   "source": [
    "#### 7.Write a program which takes 2 digits, X,Y as input and generates a 2-dimensional array. The element value in the i-th row and j-th column of the array should be i j.*\n",
    "\n",
    "#### Note: i=0,1.., X-1; j=0,1,¡­Y-1. Suppose the following inputs are given to the program: 3,5\n",
    "\n",
    "#### Then, the output of the program should be:\n",
    "\n",
    "[[0, 0, 0, 0, 0], [0, 1, 2, 3, 4], [0, 2, 4, 6, 8]]"
   ]
  },
  {
   "cell_type": "code",
   "execution_count": 37,
   "id": "practical-clause",
   "metadata": {},
   "outputs": [
    {
     "name": "stdout",
     "output_type": "stream",
     "text": [
      "3,5\n",
      "[[0, 0, 0, 0, 0], [0, 1, 2, 3, 4], [0, 2, 4, 6, 8]]\n"
     ]
    }
   ],
   "source": [
    "x,y = map(int,input().split(','))\n",
    "lst = []\n",
    "\n",
    "for i in range(x):\n",
    "    tmp = []\n",
    "    for j in range(y):\n",
    "        tmp.append(i * j)\n",
    "    lst.append(tmp)\n",
    "\n",
    "print(lst)"
   ]
  },
  {
   "cell_type": "code",
   "execution_count": 38,
   "id": "incorporate-suffering",
   "metadata": {},
   "outputs": [
    {
     "name": "stdout",
     "output_type": "stream",
     "text": [
      "3,5\n",
      "[[0, 0, 0, 0, 0], [0, 1, 2, 3, 4], [0, 2, 4, 6, 8]]\n"
     ]
    }
   ],
   "source": [
    "x,y = map(int,input().split(','))\n",
    "\n",
    "lst = [[i * j for j in range(y)]for i in range(x)]\n",
    "print(lst)"
   ]
  },
  {
   "cell_type": "code",
   "execution_count": null,
   "id": "transparent-rehabilitation",
   "metadata": {},
   "outputs": [],
   "source": []
  }
 ],
 "metadata": {
  "kernelspec": {
   "display_name": "Python 3",
   "language": "python",
   "name": "python3"
  },
  "language_info": {
   "codemirror_mode": {
    "name": "ipython",
    "version": 3
   },
   "file_extension": ".py",
   "mimetype": "text/x-python",
   "name": "python",
   "nbconvert_exporter": "python",
   "pygments_lexer": "ipython3",
   "version": "3.7.9"
  }
 },
 "nbformat": 4,
 "nbformat_minor": 5
}
