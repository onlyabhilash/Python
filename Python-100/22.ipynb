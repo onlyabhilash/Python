{
 "cells": [
  {
   "cell_type": "markdown",
   "id": "charged-surprise",
   "metadata": {},
   "source": [
    "#### 90.Please write a program which count and print the numbers of each character in a string input by console.\n",
    "\n",
    "Example: If the following string is given as input to the program:\n",
    "\n",
    "abcdefgabc\n",
    "Then, the output of the program should be:\n",
    "\n",
    "    a,2\n",
    "    c,2\n",
    "    b,2\n",
    "    e,1\n",
    "    d,1\n",
    "    g,1\n",
    "    f,1"
   ]
  },
  {
   "cell_type": "code",
   "execution_count": 1,
   "id": "accompanied-football",
   "metadata": {},
   "outputs": [
    {
     "name": "stdout",
     "output_type": "stream",
     "text": [
      "abcdefgabc\n",
      "a 2\n",
      "b 2\n",
      "c 2\n",
      "d 1\n",
      "e 1\n",
      "f 1\n",
      "g 1\n"
     ]
    }
   ],
   "source": [
    "import string\n",
    "\n",
    "s = input()\n",
    "for letter in string.ascii_letters:\n",
    "    cnt = s.count(letter)\n",
    "    if cnt > 0:\n",
    "        print('{} {}'.format(letter, cnt))"
   ]
  },
  {
   "cell_type": "code",
   "execution_count": 2,
   "id": "burning-burden",
   "metadata": {},
   "outputs": [
    {
     "name": "stdout",
     "output_type": "stream",
     "text": [
      "abcdefgabc\n",
      "a 2\n",
      "b 2\n",
      "c 2\n",
      "d 1\n",
      "e 1\n",
      "f 1\n",
      "g 1\n"
     ]
    }
   ],
   "source": [
    "s = input()\n",
    "\n",
    "for letter in range(ord('a'), ord('z') + 1): # ord() gets the ascii value of a char\n",
    "    letter = chr(letter) # chr() gets the char of an ascii value\n",
    "    cnt = s.count(letter)\n",
    "    if cnt > 0:\n",
    "        print('{} {}'.format(letter, cnt))\n",
    "    "
   ]
  },
  {
   "cell_type": "markdown",
   "id": "figured-fighter",
   "metadata": {},
   "source": [
    "#### 91.Please write a program which accepts a string from console and print it in reverse order.\n",
    "\n",
    "Example: If the following string is given as input to the program:*\n",
    "\n",
    "rise to vote sir\n",
    "\n",
    "Then, the output of the program should be:\n",
    "\n",
    "ris etov ot esir"
   ]
  },
  {
   "cell_type": "code",
   "execution_count": 3,
   "id": "ruled-archive",
   "metadata": {},
   "outputs": [
    {
     "name": "stdout",
     "output_type": "stream",
     "text": [
      "rise to vote sir\n",
      "ris etov ot esir\n"
     ]
    }
   ],
   "source": [
    "s = input()\n",
    "s = \"\".join(reversed(s))\n",
    "print(s)"
   ]
  },
  {
   "cell_type": "code",
   "execution_count": 4,
   "id": "informed-watson",
   "metadata": {},
   "outputs": [
    {
     "name": "stdout",
     "output_type": "stream",
     "text": [
      "rise to vote sir\n",
      "ris etov ot esir\n"
     ]
    }
   ],
   "source": [
    "s = input()\n",
    "s = s[::-1]\n",
    "print(s)"
   ]
  },
  {
   "cell_type": "markdown",
   "id": "earned-slave",
   "metadata": {},
   "source": [
    "#### 92.Please write a program which accepts a string from console and print the characters that have even indexes.\n",
    "\n",
    "Example: If the following string is given as input to the program:\n",
    "\n",
    "H1e2l3l4o5w6o7r8l9d\n",
    "Then, the output of the program should be:\n",
    "\n",
    "Helloworld"
   ]
  },
  {
   "cell_type": "code",
   "execution_count": 7,
   "id": "knowing-wednesday",
   "metadata": {},
   "outputs": [
    {
     "name": "stdout",
     "output_type": "stream",
     "text": [
      "Helloworld\n"
     ]
    }
   ],
   "source": [
    "s = \"H1e2l3l4o5w6o7r8l9d\"\n",
    "\n",
    "s = [s[i] for i in range(len(s)) if i % 2 == 0]\n",
    "print(''.join(s))"
   ]
  },
  {
   "cell_type": "code",
   "execution_count": 8,
   "id": "modified-costume",
   "metadata": {},
   "outputs": [
    {
     "name": "stdout",
     "output_type": "stream",
     "text": [
      "Helloworld\n"
     ]
    }
   ],
   "source": [
    "s = \"H1e2l3l4o5w6o7r8l9d\"\n",
    "ns = \"\"\n",
    "for i in range(len(s)):\n",
    "    if i % 2 == 0:\n",
    "        ns += s[i]\n",
    "print(ns)"
   ]
  },
  {
   "cell_type": "code",
   "execution_count": 9,
   "id": "capital-formation",
   "metadata": {},
   "outputs": [
    {
     "name": "stdout",
     "output_type": "stream",
     "text": [
      "Helloworld\n"
     ]
    }
   ],
   "source": [
    "s = \"H1e2l3l4o5w6o7r8l9d\"\n",
    "\n",
    "s = s[::2]\n",
    "print(s)"
   ]
  },
  {
   "cell_type": "markdown",
   "id": "magnetic-membership",
   "metadata": {},
   "source": [
    "#### 93.Please write a program which prints all permutations of [1,2,3]"
   ]
  },
  {
   "cell_type": "code",
   "execution_count": 10,
   "id": "piano-principal",
   "metadata": {},
   "outputs": [
    {
     "name": "stdout",
     "output_type": "stream",
     "text": [
      "[(1, 2, 3), (1, 3, 2), (2, 1, 3), (2, 3, 1), (3, 1, 2), (3, 2, 1)]\n"
     ]
    }
   ],
   "source": [
    "import itertools\n",
    "\n",
    "print(list(itertools.permutations([1, 2, 3])))"
   ]
  },
  {
   "cell_type": "markdown",
   "id": "resident-oxygen",
   "metadata": {},
   "source": [
    "#### 94.Write a program to solve a classic ancient Chinese puzzle: We count 35 heads and 94 legs among the chickens and rabbits in a farm. How many rabbits and how many chickens do we have?"
   ]
  },
  {
   "cell_type": "code",
   "execution_count": 16,
   "id": "found-poultry",
   "metadata": {},
   "outputs": [
    {
     "name": "stdout",
     "output_type": "stream",
     "text": [
      "0 140\n",
      "2 136\n",
      "4 132\n",
      "6 128\n",
      "8 124\n",
      "10 120\n",
      "12 116\n",
      "14 112\n",
      "16 108\n",
      "18 104\n",
      "20 100\n",
      "22 96\n",
      "24 92\n",
      "26 88\n",
      "28 84\n",
      "30 80\n",
      "32 76\n",
      "34 72\n",
      "36 68\n",
      "38 64\n",
      "40 60\n",
      "42 56\n",
      "44 52\n",
      "46 48\n",
      "(23, 12)\n"
     ]
    }
   ],
   "source": [
    "def solve(numheads, numlegs):\n",
    "    ns = 'No Solutions !'\n",
    "    for i in range(numheads + 1):\n",
    "        j = numheads - i\n",
    "        print(2 * i,4 * j)\n",
    "        if 2 * i + 4 * j == numlegs:\n",
    "            return i, j\n",
    "    return ns, ns\n",
    "        \n",
    "numheads = 35\n",
    "numlegs = 94\n",
    "solutions = solve(numheads, numlegs)\n",
    "print(solutions)"
   ]
  },
  {
   "cell_type": "code",
   "execution_count": null,
   "id": "stuffed-citation",
   "metadata": {},
   "outputs": [],
   "source": []
  }
 ],
 "metadata": {
  "kernelspec": {
   "display_name": "Python 3",
   "language": "python",
   "name": "python3"
  },
  "language_info": {
   "codemirror_mode": {
    "name": "ipython",
    "version": 3
   },
   "file_extension": ".py",
   "mimetype": "text/x-python",
   "name": "python",
   "nbconvert_exporter": "python",
   "pygments_lexer": "ipython3",
   "version": "3.7.9"
  }
 },
 "nbformat": 4,
 "nbformat_minor": 5
}
