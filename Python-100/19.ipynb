{
 "cells": [
  {
   "cell_type": "markdown",
   "id": "linear-arrest",
   "metadata": {},
   "source": [
    "#### 75.Please write a program to randomly print a integer number between 7 and 15 inclusive.\n",
    "\n",
    "#### Hints\n",
    "Use random.randrange() to a random integer in a given range."
   ]
  },
  {
   "cell_type": "code",
   "execution_count": 2,
   "id": "stock-document",
   "metadata": {},
   "outputs": [
    {
     "name": "stdout",
     "output_type": "stream",
     "text": [
      "15\n"
     ]
    }
   ],
   "source": [
    "import random\n",
    "\n",
    "print(random.randrange(7, 16))"
   ]
  },
  {
   "cell_type": "markdown",
   "id": "sudden-supervisor",
   "metadata": {},
   "source": [
    "#### 76.Please write a program to compress and decompress the string \"hello world!hello world!hello world!hello world!\".\n",
    "\n",
    "#### Hints\n",
    "Use zlib.compress() and zlib.decompress() to compress and decompress a string."
   ]
  },
  {
   "cell_type": "code",
   "execution_count": 5,
   "id": "lasting-authentication",
   "metadata": {},
   "outputs": [
    {
     "name": "stdout",
     "output_type": "stream",
     "text": [
      "b'x\\x9c\\xcbH\\xcd\\xc9\\xc9W(\\xcf/\\xcaIQ\\xcc \\x82\\r\\x00\\xbd[\\x11\\xf5'\n",
      "b'hello world!hello world!hello world!hello world!'\n"
     ]
    }
   ],
   "source": [
    "import zlib\n",
    "\n",
    "t = zlib.compress(b'hello world!hello world!hello world!hello world!')\n",
    "print(t)\n",
    "print(zlib.decompress(t))"
   ]
  },
  {
   "cell_type": "markdown",
   "id": "executed-junior",
   "metadata": {},
   "source": [
    "#### 77.Please write a program to print the running time of execution of \"1+1\" for 100 times.\n",
    "\n",
    "#### Hints\n",
    "Use timeit() function to measure the running time."
   ]
  },
  {
   "cell_type": "code",
   "execution_count": 11,
   "id": "atomic-capability",
   "metadata": {},
   "outputs": [
    {
     "name": "stdout",
     "output_type": "stream",
     "text": [
      "2021-10-18 14:28:40.766388\n",
      "999\n"
     ]
    }
   ],
   "source": [
    "import datetime\n",
    "\n",
    "before = datetime.datetime.now()\n",
    "print(before)\n",
    "for i in range(100):\n",
    "    x = 1 + 1\n",
    "after = datetime.datetime.now()\n",
    "execution_time = after - before\n",
    "print(execution_time.microseconds)"
   ]
  },
  {
   "cell_type": "code",
   "execution_count": 15,
   "id": "pleased-binary",
   "metadata": {},
   "outputs": [
    {
     "name": "stdout",
     "output_type": "stream",
     "text": [
      "1634547590.7075102\n",
      "0.0009992122650146484\n"
     ]
    }
   ],
   "source": [
    "import time\n",
    "\n",
    "before = time.time()\n",
    "print(before)\n",
    "for i in range(100):\n",
    "    x = 1 + 1\n",
    "after = time.time()\n",
    "execution_time = after - before\n",
    "print(execution_time)"
   ]
  },
  {
   "cell_type": "markdown",
   "id": "standing-creek",
   "metadata": {},
   "source": [
    "#### 78.Please write a program to shuffle and print the list [3,6,7,8].\n",
    "\n",
    "#### Hints\n",
    "Use shuffle() function to shuffle a list."
   ]
  },
  {
   "cell_type": "code",
   "execution_count": 19,
   "id": "challenging-speaker",
   "metadata": {},
   "outputs": [
    {
     "name": "stdout",
     "output_type": "stream",
     "text": [
      "[8, 6, 3, 7]\n"
     ]
    }
   ],
   "source": [
    "import random\n",
    "\n",
    "lst = [3, 6, 7, 8]\n",
    "random.shuffle(lst)\n",
    "print(lst)"
   ]
  },
  {
   "cell_type": "code",
   "execution_count": 40,
   "id": "disturbed-genetics",
   "metadata": {},
   "outputs": [
    {
     "name": "stdout",
     "output_type": "stream",
     "text": [
      "[3, 7, 8, 6]\n"
     ]
    }
   ],
   "source": [
    "import random\n",
    "\n",
    "# shuffle with a chosen seed\n",
    "lst = [3, 6, 7, 8]\n",
    "seed = 8\n",
    "random.Random(seed).shuffle(lst)\n",
    "print(lst)"
   ]
  },
  {
   "cell_type": "markdown",
   "id": "touched-inquiry",
   "metadata": {},
   "source": [
    "#### 79.Please write a program to generate all sentences where subject is in [\"I\", \"You\"] and verb is in [\"Play\", \"Love\"] and the object is in [\"Hockey\",\"Football\"].\n",
    "\n",
    "#### Hints\n",
    "Use list[index] notation to get a element from a list."
   ]
  },
  {
   "cell_type": "code",
   "execution_count": null,
   "id": "framed-colon",
   "metadata": {},
   "outputs": [],
   "source": []
  },
  {
   "cell_type": "code",
   "execution_count": null,
   "id": "clinical-owner",
   "metadata": {},
   "outputs": [],
   "source": []
  }
 ],
 "metadata": {
  "kernelspec": {
   "display_name": "Python 3",
   "language": "python",
   "name": "python3"
  },
  "language_info": {
   "codemirror_mode": {
    "name": "ipython",
    "version": 3
   },
   "file_extension": ".py",
   "mimetype": "text/x-python",
   "name": "python",
   "nbconvert_exporter": "python",
   "pygments_lexer": "ipython3",
   "version": "3.7.9"
  }
 },
 "nbformat": 4,
 "nbformat_minor": 5
}
