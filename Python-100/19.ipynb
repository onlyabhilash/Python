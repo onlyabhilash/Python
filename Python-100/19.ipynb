{
 "cells": [
  {
   "cell_type": "markdown",
   "id": "located-piece",
   "metadata": {},
   "source": [
    "#### 75.Please write a program to randomly print a integer number between 7 and 15 inclusive.\n",
    "\n",
    "#### Hints\n",
    "Use random.randrange() to a random integer in a given range."
   ]
  },
  {
   "cell_type": "code",
   "execution_count": 2,
   "id": "banner-decrease",
   "metadata": {},
   "outputs": [
    {
     "name": "stdout",
     "output_type": "stream",
     "text": [
      "15\n"
     ]
    }
   ],
   "source": [
    "import random\n",
    "\n",
    "print(random.randrange(7, 16))"
   ]
  },
  {
   "cell_type": "markdown",
   "id": "coupled-madrid",
   "metadata": {},
   "source": [
    "#### 76.Please write a program to compress and decompress the string \"hello world!hello world!hello world!hello world!\".\n",
    "\n",
    "#### Hints\n",
    "Use zlib.compress() and zlib.decompress() to compress and decompress a string."
   ]
  },
  {
   "cell_type": "code",
   "execution_count": null,
   "id": "close-yesterday",
   "metadata": {},
   "outputs": [],
   "source": []
  }
 ],
 "metadata": {
  "kernelspec": {
   "display_name": "Python 3",
   "language": "python",
   "name": "python3"
  },
  "language_info": {
   "codemirror_mode": {
    "name": "ipython",
    "version": 3
   },
   "file_extension": ".py",
   "mimetype": "text/x-python",
   "name": "python",
   "nbconvert_exporter": "python",
   "pygments_lexer": "ipython3",
   "version": "3.7.9"
  }
 },
 "nbformat": 4,
 "nbformat_minor": 5
}
