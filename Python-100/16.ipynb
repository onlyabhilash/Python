{
 "cells": [
  {
   "cell_type": "markdown",
   "id": "wooden-guess",
   "metadata": {},
   "source": [
    "#### 60.Write a program to compute:\n",
    "\n",
    "#### f(n)=f(n-1)+100 when n>0\n",
    "\n",
    "    and f(0)=0\n",
    "\n",
    "    with a given n input by console (n>0).\n",
    "\n",
    "    Example: If the following n is given as input to the program:\n",
    "\n",
    "    5\n",
    "\n",
    "    Then, the output of the program should be:\n",
    "\n",
    "    500\n",
    "\n",
    "    In case of input data being supplied to the question, it should be assumed to be a console input."
   ]
  },
  {
   "cell_type": "code",
   "execution_count": 3,
   "id": "dated-vault",
   "metadata": {},
   "outputs": [
    {
     "name": "stdout",
     "output_type": "stream",
     "text": [
      "5\n",
      "500\n"
     ]
    }
   ],
   "source": [
    "def f(n):\n",
    "    if n == 0:\n",
    "        return 0\n",
    "    return f(n-1) + 100\n",
    "\n",
    "n = int(input())\n",
    "print(f(n))"
   ]
  },
  {
   "cell_type": "markdown",
   "id": "confirmed-sally",
   "metadata": {},
   "source": [
    "#### 61.The Fibonacci Sequence is computed based on the following formula:\n",
    "\n",
    "#### f(n)=0 if n=0\n",
    "\n",
    "#### f(n)=1 if n=1\n",
    "\n",
    "#### f(n)=f(n-1)+f(n-2) if n>1\n",
    "\n",
    "    Please write a program to compute the value of f(n) with a given n input by console.\n",
    "\n",
    "    Example: If the following n is given as input to the program:\n",
    "\n",
    "    7\n",
    "\n",
    "    Then, the output of the program should be:\n",
    "\n",
    "    13\n",
    "\n",
    "    In case of input data being supplied to the question, it should be assumed to be a console input."
   ]
  },
  {
   "cell_type": "code",
   "execution_count": 4,
   "id": "possible-liquid",
   "metadata": {},
   "outputs": [
    {
     "name": "stdout",
     "output_type": "stream",
     "text": [
      "7\n",
      "13\n"
     ]
    }
   ],
   "source": [
    "def f(n):\n",
    "    if n < 2:\n",
    "        return n\n",
    "    return f(n - 2) + f(n - 1)\n",
    "\n",
    "n = int(input())\n",
    "print(f(n))"
   ]
  },
  {
   "cell_type": "markdown",
   "id": "current-shock",
   "metadata": {},
   "source": [
    "#### 62.The Fibonacci Sequence is computed based on the following formula:\n",
    "\n",
    "$f(n)=0$ if n=0\n",
    "\n",
    "$f(n)=1$ if n=1\n",
    "\n",
    "$f(n)=f(n-1)+f(n-2)$ if n>1\n",
    "\n",
    "Please write a program to compute the value of f(n) with a given n input by console.\n",
    "\n",
    "Example: If the following n is given as input to the program:\n",
    "\n",
    "7\n",
    "\n",
    "Then, the output of the program should be:\n",
    "\n",
    "0,1,1,2,3,5,8,13\n",
    "\n",
    "In case of input data being supplied to the question, it should be assumed to be a console input."
   ]
  },
  {
   "cell_type": "code",
   "execution_count": 37,
   "id": "vital-scanner",
   "metadata": {},
   "outputs": [
    {
     "name": "stdout",
     "output_type": "stream",
     "text": [
      "7\n",
      "[0, 0, 0, 0, 0, 0, 0, 0]\n",
      "[0, 1, 1, 0, 0, 0, 0, 0]\n",
      "[0, 1, 1, 2, 0, 0, 0, 0]\n",
      "[0, 1, 1, 2, 0, 0, 0, 0]\n",
      "[0, 1, 1, 2, 3, 0, 0, 0]\n",
      "[0, 1, 1, 2, 3, 0, 0, 0]\n",
      "[0, 1, 1, 2, 3, 0, 0, 0]\n",
      "[0, 1, 1, 2, 3, 5, 0, 0]\n",
      "[0, 1, 1, 2, 3, 5, 0, 0]\n",
      "[0, 1, 1, 2, 3, 5, 0, 0]\n",
      "[0, 1, 1, 2, 3, 5, 0, 0]\n",
      "[0, 1, 1, 2, 3, 5, 0, 0]\n",
      "[0, 1, 1, 2, 3, 5, 8, 0]\n",
      "[0, 1, 1, 2, 3, 5, 8, 0]\n",
      "[0, 1, 1, 2, 3, 5, 8, 0]\n",
      "[0, 1, 1, 2, 3, 5, 8, 0]\n",
      "[0, 1, 1, 2, 3, 5, 8, 0]\n",
      "[0, 1, 1, 2, 3, 5, 8, 0]\n",
      "[0, 1, 1, 2, 3, 5, 8, 0]\n",
      "[0, 1, 1, 2, 3, 5, 8, 0]\n",
      "[0, 1, 1, 2, 3, 5, 8, 13]\n",
      "['0', '1', '1', '2', '3', '5', '8', '13']\n",
      "0,1,1,2,3,5,8,13\n"
     ]
    }
   ],
   "source": [
    "def f(n):\n",
    "    if n < 2:\n",
    "        fibo[n] = n\n",
    "        return fibo[n]\n",
    "    fibo[n] = f(n-1) + f(n-2)\n",
    "    print(fibo)\n",
    "    return fibo[n]\n",
    "\n",
    "n = int(input())\n",
    "\n",
    "fibo = [0] * (n + 1) # initialize a list of size (n+1)\n",
    "print(fibo)\n",
    "f(n)\n",
    "fibo = [str(i) for i in fibo]\n",
    "print(fibo)\n",
    "ans = \",\".join(fibo)  # joining all string element of fibo with ',' character\n",
    "print(ans)"
   ]
  },
  {
   "cell_type": "markdown",
   "id": "stunning-carrier",
   "metadata": {},
   "source": [
    "#### 63.Please write a program using generator to print the even numbers between 0 and n in comma separated form while n is input by console.\n",
    "\n",
    "Example: If the following n is given as input to the program:\n",
    "\n",
    "10\n",
    "\n",
    "Then, the output of the program should be:\n",
    "\n",
    "0,2,4,6,8,10\n",
    "\n",
    "In case of input data being supplied to the question, it should be assumed to be a console input.\n",
    "\n",
    "#### Hints : Use yield to produce the next value in generator."
   ]
  },
  {
   "cell_type": "code",
   "execution_count": null,
   "id": "existing-browser",
   "metadata": {},
   "outputs": [],
   "source": []
  }
 ],
 "metadata": {
  "kernelspec": {
   "display_name": "Python 3",
   "language": "python",
   "name": "python3"
  },
  "language_info": {
   "codemirror_mode": {
    "name": "ipython",
    "version": 3
   },
   "file_extension": ".py",
   "mimetype": "text/x-python",
   "name": "python",
   "nbconvert_exporter": "python",
   "pygments_lexer": "ipython3",
   "version": "3.7.9"
  }
 },
 "nbformat": 4,
 "nbformat_minor": 5
}
