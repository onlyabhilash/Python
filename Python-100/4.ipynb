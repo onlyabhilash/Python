{
 "cells": [
  {
   "cell_type": "markdown",
   "id": "corrected-occasions",
   "metadata": {},
   "source": [
    "#### 14.Write a program that accepts a sentence and calculate the number of upper case letters and lower case letters.\n",
    "\n",
    "#### Suppose the following input is supplied to the program:\n",
    "\n",
    "    Hello world!\n",
    "\n",
    "#### Then, the output should be:\n",
    "\n",
    "    UPPER CASE 1\n",
    "\n",
    "    LOWER CASE 9"
   ]
  },
  {
   "cell_type": "code",
   "execution_count": 4,
   "id": "controversial-garlic",
   "metadata": {},
   "outputs": [
    {
     "name": "stdout",
     "output_type": "stream",
     "text": [
      "Hello world!\n",
      "Upper 1 Lower 9\n"
     ]
    }
   ],
   "source": [
    "word = input()\n",
    "upper,lower = 0,0\n",
    "\n",
    "for i in word:\n",
    "    if 'a' <= i and i<= 'z':\n",
    "        lower += 1\n",
    "    if 'A' <= i and i<= 'Z':\n",
    "        upper += 1\n",
    "        \n",
    "print('Upper {0} Lower {1}'.format(upper,lower))"
   ]
  },
  {
   "cell_type": "code",
   "execution_count": 5,
   "id": "wrapped-isaac",
   "metadata": {},
   "outputs": [
    {
     "name": "stdout",
     "output_type": "stream",
     "text": [
      "Hello world!\n",
      "Upper 1 Lower 9\n"
     ]
    }
   ],
   "source": [
    "word = input()\n",
    "upper,lower = 0,0\n",
    "\n",
    "for i in word:\n",
    "    lower += i.islower()\n",
    "    upper += i.isupper()\n",
    "    \n",
    "print('Upper {0} Lower {1}'.format(upper,lower))"
   ]
  },
  {
   "cell_type": "code",
   "execution_count": 12,
   "id": "mineral-electronics",
   "metadata": {},
   "outputs": [
    {
     "name": "stdout",
     "output_type": "stream",
     "text": [
      "Hello world!\n",
      "Upper 1 Lower 9\n"
     ]
    }
   ],
   "source": [
    "word = input()\n",
    "\n",
    "upper = sum(1 for i in word if i.isupper()) # sum function cumulatively sum up 1's if the condition is True\n",
    "lower = sum(1 for i in word if i.islower())\n",
    "\n",
    "print('Upper {0} Lower {1}'.format(upper,lower))"
   ]
  },
  {
   "cell_type": "code",
   "execution_count": 13,
   "id": "fresh-wayne",
   "metadata": {},
   "outputs": [
    {
     "name": "stdout",
     "output_type": "stream",
     "text": [
      "Enter the sentenceHello world!\n",
      "UPPER CASE:  1\n",
      "LOWER CASE:  9\n"
     ]
    }
   ],
   "source": [
    "string = input('Enter the sentence')\n",
    "upper = 0\n",
    "lower = 0\n",
    "\n",
    "for x in string:\n",
    "    if x.isupper() == True:\n",
    "        upper += 1\n",
    "    if x.islower() == True:\n",
    "        lower += 1\n",
    "\n",
    "print(\"UPPER CASE: \", upper)\n",
    "print(\"LOWER CASE: \", lower)"
   ]
  },
  {
   "cell_type": "markdown",
   "id": "dedicated-exhibition",
   "metadata": {},
   "source": [
    "#### 15.Write a program that computes the value of a+aa+aaa+aaaa with a given digit as the value of a.\n",
    "\n",
    "#### Suppose the following input is supplied to the program:\n",
    "\n",
    "    9\n",
    "\n",
    "#### Then, the output should be:\n",
    "\n",
    "    11106"
   ]
  },
  {
   "cell_type": "code",
   "execution_count": 15,
   "id": "comic-ballot",
   "metadata": {},
   "outputs": [
    {
     "name": "stdout",
     "output_type": "stream",
     "text": [
      "2\n",
      "2468\n"
     ]
    }
   ],
   "source": [
    "a = input()\n",
    "total, tmp = 0, str() # initialing an integer and empty string\n",
    "\n",
    "for i in range(4):\n",
    "    tmp += a # concatenating 'a' to 'tmp'\n",
    "    total += int(tmp) # converting string type to integer type\n",
    "    \n",
    "print(total)"
   ]
  },
  {
   "cell_type": "code",
   "execution_count": 16,
   "id": "official-andorra",
   "metadata": {},
   "outputs": [
    {
     "name": "stdout",
     "output_type": "stream",
     "text": [
      "Enter value: 2\n",
      "2468\n"
     ]
    }
   ],
   "source": [
    "value = input(\"Enter value: \")\n",
    "\n",
    "n1 = value * 1\n",
    "n2 = value * 2\n",
    "n3 = value * 3\n",
    "n4 = value * 4\n",
    "\n",
    "total = int(n1) + int(n2) + int(n3) + int(n4)\n",
    "print(total)"
   ]
  },
  {
   "cell_type": "code",
   "execution_count": 17,
   "id": "framed-choice",
   "metadata": {},
   "outputs": [
    {
     "name": "stdout",
     "output_type": "stream",
     "text": [
      "2\n",
      "2468\n"
     ]
    }
   ],
   "source": [
    "a = input()\n",
    "total = int(a) + int(2*a) + int(3*a) + int(4*a)  # N*a=Na, for example  a=\"23\", 2*a=\"2323\",3*a=\"232323\"\n",
    "print(total)"
   ]
  },
  {
   "cell_type": "code",
   "execution_count": null,
   "id": "economic-louis",
   "metadata": {},
   "outputs": [],
   "source": []
  }
 ],
 "metadata": {
  "kernelspec": {
   "display_name": "Python 3",
   "language": "python",
   "name": "python3"
  },
  "language_info": {
   "codemirror_mode": {
    "name": "ipython",
    "version": 3
   },
   "file_extension": ".py",
   "mimetype": "text/x-python",
   "name": "python",
   "nbconvert_exporter": "python",
   "pygments_lexer": "ipython3",
   "version": "3.7.9"
  }
 },
 "nbformat": 4,
 "nbformat_minor": 5
}
