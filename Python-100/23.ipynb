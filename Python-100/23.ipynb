{
 "cells": [
  {
   "cell_type": "markdown",
   "id": "cooperative-stewart",
   "metadata": {},
   "source": [
    "#### 95.Given the participants' score sheet for your University Sports Day, you are required to find the runner-up score. You are given scores. Store them in a list and find the score of the runner-up.\n",
    "\n",
    "If the following string is given as input to the program:\n",
    "\n",
    "5 2 3 6 6 5\n",
    "\n",
    "Then, the output of the program should be:\n",
    "\n",
    "5"
   ]
  },
  {
   "cell_type": "code",
   "execution_count": 4,
   "id": "completed-assets",
   "metadata": {},
   "outputs": [
    {
     "name": "stdout",
     "output_type": "stream",
     "text": [
      "5 2 3 6 6 5\n",
      "5\n"
     ]
    }
   ],
   "source": [
    "arr = map(int, input().split())\n",
    "arr = list(set(arr))\n",
    "arr.sort()\n",
    "print(arr[-2])"
   ]
  },
  {
   "cell_type": "code",
   "execution_count": 8,
   "id": "sticky-representative",
   "metadata": {},
   "outputs": [
    {
     "name": "stdout",
     "output_type": "stream",
     "text": [
      "Enter num: 1\n",
      "Enter another: 2\n",
      "Enter another: 3\n",
      "Enter another: 4\n",
      "Enter another: 0\n",
      "[1, 2, 3, 4]\n",
      "The runner up is 3\n"
     ]
    }
   ],
   "source": [
    "num = int(input(\"Enter num: \"))\n",
    "L = []\n",
    "\n",
    "while True:\n",
    "    L.append(num)\n",
    "    num = int(input(\"Enter another: \"))\n",
    "    if num == 0:\n",
    "        break\n",
    "\n",
    "L1 = list(set(L[:]))\n",
    "L2 = sorted(L1)\n",
    "print(L2)\n",
    "\n",
    "print(f\"The runner up is {L2[-2]}\")"
   ]
  },
  {
   "cell_type": "markdown",
   "id": "integrated-living",
   "metadata": {},
   "source": [
    "#### 96.You are given a string S and width W. Your task is to wrap the string into a paragraph of width.\n",
    "\n",
    "If the following string is given as input to the program:\n",
    "\n",
    "ABCDEFGHIJKLIMNOQRSTUVWXYZ 4\n",
    "\n",
    "Then, the output of the program should be:\n",
    "\n",
    "ABCD EFGH IJKL IMNO QRST UVWX YZ"
   ]
  },
  {
   "cell_type": "markdown",
   "id": "intellectual-causing",
   "metadata": {},
   "source": []
  }
 ],
 "metadata": {
  "kernelspec": {
   "display_name": "Python 3",
   "language": "python",
   "name": "python3"
  },
  "language_info": {
   "codemirror_mode": {
    "name": "ipython",
    "version": 3
   },
   "file_extension": ".py",
   "mimetype": "text/x-python",
   "name": "python",
   "nbconvert_exporter": "python",
   "pygments_lexer": "ipython3",
   "version": "3.7.9"
  }
 },
 "nbformat": 4,
 "nbformat_minor": 5
}
