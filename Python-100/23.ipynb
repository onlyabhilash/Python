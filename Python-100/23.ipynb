{
 "cells": [
  {
   "cell_type": "markdown",
   "id": "cooperative-stewart",
   "metadata": {},
   "source": [
    "#### 95.Given the participants' score sheet for your University Sports Day, you are required to find the runner-up score. You are given scores. Store them in a list and find the score of the runner-up.\n",
    "\n",
    "If the following string is given as input to the program:\n",
    "\n",
    "5 2 3 6 6 5\n",
    "\n",
    "Then, the output of the program should be:\n",
    "\n",
    "5"
   ]
  },
  {
   "cell_type": "code",
   "execution_count": null,
   "id": "completed-assets",
   "metadata": {},
   "outputs": [],
   "source": []
  }
 ],
 "metadata": {
  "kernelspec": {
   "display_name": "Python 3",
   "language": "python",
   "name": "python3"
  },
  "language_info": {
   "codemirror_mode": {
    "name": "ipython",
    "version": 3
   },
   "file_extension": ".py",
   "mimetype": "text/x-python",
   "name": "python",
   "nbconvert_exporter": "python",
   "pygments_lexer": "ipython3",
   "version": "3.7.9"
  }
 },
 "nbformat": 4,
 "nbformat_minor": 5
}
