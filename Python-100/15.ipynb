{
 "cells": [
  {
   "cell_type": "markdown",
   "id": "engaging-hamburg",
   "metadata": {},
   "source": [
    "#### 54.Assuming that we have some email addresses in the \"username@companyname.com\" format, please write program to print the company name of a given email address. Both user names and company names are composed of letters only.\n",
    "\n",
    "#### Example: If the following email address is given as input to the program:\n",
    "\n",
    "    john@google.com\n",
    "\n",
    "#### Then, the output of the program should be:\n",
    "\n",
    "    google\n",
    "\n",
    "#### In case of input data being supplied to the question, it should be assumed to be a console input."
   ]
  },
  {
   "cell_type": "code",
   "execution_count": 1,
   "id": "stretch-bookmark",
   "metadata": {},
   "outputs": [
    {
     "name": "stdout",
     "output_type": "stream",
     "text": [
      "['google', 'python']\n"
     ]
    }
   ],
   "source": [
    "import re\n",
    "email = \"john@google.com elise@python.com\"\n",
    "pattern = '\\w+@(\\w+).com'\n",
    "ans = re.findall(pattern,email)\n",
    "print(ans)"
   ]
  },
  {
   "cell_type": "markdown",
   "id": "defined-texas",
   "metadata": {},
   "source": [
    "#### 55.Write a program which accepts a sequence of words separated by whitespace as input to print the words composed of digits only.\n",
    "\n",
    "#### Example: If the following words is given as input to the program:\n",
    "\n",
    "    2 cats and 3 dogs.\n",
    "\n",
    "#### Then, the output of the program should be:\n",
    "\n",
    "    ['2', '3']\n",
    "\n",
    "#### In case of input data being supplied to the question, it should be assumed to be a console input."
   ]
  },
  {
   "cell_type": "code",
   "execution_count": 6,
   "id": "blank-channel",
   "metadata": {},
   "outputs": [
    {
     "name": "stdout",
     "output_type": "stream",
     "text": [
      "2 cats and 3 dogs.\n",
      "['2', '3']\n"
     ]
    }
   ],
   "source": [
    "import re\n",
    "\n",
    "email = input()\n",
    "pattern = '\\d+'\n",
    "ans = re.findall(pattern,email)\n",
    "print(ans)"
   ]
  },
  {
   "cell_type": "code",
   "execution_count": 7,
   "id": "cordless-algorithm",
   "metadata": {},
   "outputs": [
    {
     "name": "stdout",
     "output_type": "stream",
     "text": [
      "2 cats and 3 dogs.\n",
      "['2', '3']\n"
     ]
    }
   ],
   "source": [
    "# using list\n",
    "\n",
    "email = input()\n",
    "ans = []\n",
    "\n",
    "for word in email:\n",
    "    if word.isdigit():\n",
    "        ans.append(word)\n",
    "print(ans)"
   ]
  },
  {
   "cell_type": "code",
   "execution_count": null,
   "id": "conventional-workshop",
   "metadata": {},
   "outputs": [],
   "source": [
    "# using list comprehension\n",
    "\n",
    "email = input()\n",
    "ans = [digit for digit in email if digit.isdigit()]\n",
    "print(ans)"
   ]
  },
  {
   "cell_type": "markdown",
   "id": "acquired-appearance",
   "metadata": {},
   "source": [
    "#### 57.Write a program to read an ASCII string and to convert it to a unicode string encoded by utf-8.\n",
    "\n",
    "#### Hints\n",
    "#### Use unicode()/encode() function to convert.\n",
    "\n"
   ]
  },
  {
   "cell_type": "code",
   "execution_count": 14,
   "id": "interracial-microwave",
   "metadata": {},
   "outputs": [
    {
     "name": "stdout",
     "output_type": "stream",
     "text": [
      "i love python\n",
      "b'i love python'\n"
     ]
    }
   ],
   "source": [
    "s = input()\n",
    "u = s.encode('utf-8')\n",
    "print(u)"
   ]
  },
  {
   "cell_type": "markdown",
   "id": "flush-vermont",
   "metadata": {},
   "source": [
    "#### 59.Write a program to compute 1/2+2/3+3/4+...+n/n+1 with a given n input by console (n>0).\n",
    "\n",
    "#### Example: If the following n is given as input to the program:\n",
    "\n",
    "    5\n",
    "\n",
    "#### Then, the output of the program should be:\n",
    "\n",
    "    3.55\n",
    "\n",
    "#### In case of input data being supplied to the question, it should be assumed to be a console input.\n",
    "\n"
   ]
  },
  {
   "cell_type": "code",
   "execution_count": 17,
   "id": "spoken-burke",
   "metadata": {},
   "outputs": [
    {
     "name": "stdout",
     "output_type": "stream",
     "text": [
      "5\n",
      "3.55\n"
     ]
    }
   ],
   "source": [
    "n = int(input())\n",
    "sum = 0\n",
    "\n",
    "for i in range(1,n+1):\n",
    "    sum += i/(i+1)\n",
    "print(round(sum,2))"
   ]
  },
  {
   "cell_type": "code",
   "execution_count": null,
   "id": "authorized-leadership",
   "metadata": {},
   "outputs": [],
   "source": []
  }
 ],
 "metadata": {
  "kernelspec": {
   "display_name": "Python 3",
   "language": "python",
   "name": "python3"
  },
  "language_info": {
   "codemirror_mode": {
    "name": "ipython",
    "version": 3
   },
   "file_extension": ".py",
   "mimetype": "text/x-python",
   "name": "python",
   "nbconvert_exporter": "python",
   "pygments_lexer": "ipython3",
   "version": "3.7.9"
  }
 },
 "nbformat": 4,
 "nbformat_minor": 5
}
