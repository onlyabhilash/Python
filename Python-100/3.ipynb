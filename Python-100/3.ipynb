{
 "cells": [
  {
   "cell_type": "markdown",
   "id": "published-turtle",
   "metadata": {},
   "source": [
    "#### 10.Write a program that accepts a sequence of whitespace separated words as input and prints the words after removing all duplicate words and sorting them alphanumerically.\n",
    "\n",
    "#### Suppose the following input is supplied to the program:\n",
    "\n",
    "    hello world and practice makes perfect and hello world again\n",
    "\n",
    "#### Then, the output should be:\n",
    "\n",
    "    again and hello makes perfect practice world\n",
    "\n"
   ]
  },
  {
   "cell_type": "code",
   "execution_count": 23,
   "id": "experimental-fitting",
   "metadata": {},
   "outputs": [
    {
     "name": "stdout",
     "output_type": "stream",
     "text": [
      "hello world and practice makes perfect and hello world again\n",
      "again and hello makes perfect practice world\n"
     ]
    }
   ],
   "source": [
    "word = input().split()\n",
    "\n",
    "for i in word:\n",
    "    if (word.count(i) > 1):\n",
    "        word.remove(i)\n",
    "\n",
    "word.sort()\n",
    "print(\" \".join(word))"
   ]
  },
  {
   "cell_type": "code",
   "execution_count": 27,
   "id": "double-connectivity",
   "metadata": {},
   "outputs": [
    {
     "name": "stdout",
     "output_type": "stream",
     "text": [
      "hello world and practice makes perfect and hello world again\n",
      "again and hello makes perfect practice world\n"
     ]
    }
   ],
   "source": [
    "word = input().split()\n",
    "\n",
    "[word.remove(i) for i in word if word.count(i) > 1]\n",
    "word.sort()\n",
    "print(' '.join(word))"
   ]
  },
  {
   "cell_type": "code",
   "execution_count": 31,
   "id": "severe-longer",
   "metadata": {},
   "outputs": [
    {
     "name": "stdout",
     "output_type": "stream",
     "text": [
      "hello world and practice makes perfect and hello world again\n",
      "again and hello makes perfect practice world\n"
     ]
    }
   ],
   "source": [
    "word = sorted(set(input().split()))\n",
    "\n",
    "print(' '.join(word))"
   ]
  },
  {
   "cell_type": "markdown",
   "id": "signal-slave",
   "metadata": {},
   "source": [
    "#### 11.Write a program which accepts a sequence of comma separated 4 digit binary numbers as its input and then check whether they are divisible by 5 or not. The numbers that are divisible by 5 are to be printed in a comma separated sequence.\n",
    "\n",
    "#### Example:\n",
    "\n",
    "    0100,0011,1010,1001\n",
    "\n",
    "#### Then the output should be:\n",
    "\n",
    "    1010\n",
    "\n",
    "#### Notes: Assume the data is input by console."
   ]
  },
  {
   "cell_type": "code",
   "execution_count": 1,
   "id": "multiple-advance",
   "metadata": {},
   "outputs": [
    {
     "name": "stdout",
     "output_type": "stream",
     "text": [
      "0100,0011,1010,1001\n",
      "1010\n"
     ]
    }
   ],
   "source": [
    "def check(x): # converts binary to integer & returns zero if divisible by 5\n",
    "    total,pw = 0 ,1\n",
    "    reversed(x)\n",
    "    \n",
    "    for i in x:\n",
    "        total += pw * (ord(i) - 48) # ord() function returns ASCII value\n",
    "        pw *= 2\n",
    "    return total % 5\n",
    "\n",
    "data = input().split(',')\n",
    "lst = []\n",
    "\n",
    "for i in data:\n",
    "    if check(i) == 0:\n",
    "        lst.append(i)\n",
    "\n",
    "print(','.join(lst))"
   ]
  },
  {
   "cell_type": "code",
   "execution_count": 3,
   "id": "thermal-cattle",
   "metadata": {},
   "outputs": [
    {
     "name": "stdout",
     "output_type": "stream",
     "text": [
      "0100,0011,1010,1001\n",
      "['0100', '0011', '1010', '1001']\n",
      "1010\n"
     ]
    }
   ],
   "source": [
    "def check(x):\n",
    "    return int(x,2) % 5 == 0 # int(x,b) takes x as string and b as base from which\n",
    "    # it will be converted to decimal\n",
    "    \n",
    "data  = input().split(',')\n",
    "print(data)\n",
    "\n",
    "data = list(\n",
    "    filter(check,data) # in filter(func,object) function, elements are picked from 'data' if found True by 'check' function\n",
    "    )\n",
    "\n",
    "print(','.join(data))"
   ]
  },
  {
   "cell_type": "code",
   "execution_count": 4,
   "id": "unavailable-green",
   "metadata": {},
   "outputs": [
    {
     "name": "stdout",
     "output_type": "stream",
     "text": [
      "0100,0011,1010,1001\n",
      "1010\n"
     ]
    }
   ],
   "source": [
    "data = input().split(',')\n",
    "\n",
    "data = list(filter(lambda i : int(i,2) % 5 == 0, data))\n",
    "print(','.join(data))"
   ]
  },
  {
   "cell_type": "markdown",
   "id": "humanitarian-sleeping",
   "metadata": {},
   "source": [
    "#### 12.Write a program, which will find all such numbers between 1000 and 3000 (both included) such that each digit of the number is an even number.The numbers obtained should be printed in a comma-separated sequence on a single line."
   ]
  },
  {
   "cell_type": "code",
   "execution_count": 19,
   "id": "delayed-ballet",
   "metadata": {},
   "outputs": [
    {
     "name": "stdout",
     "output_type": "stream",
     "text": [
      "2000,2002,2004,2006,2008,2020,2022,2024,2026,2028,2040,2042,2044,2046,2048,2060,2062,2064,2066,2068,2080,2082,2084,2086,2088,2200,2202,2204,2206,2208,2220,2222,2224,2226,2228,2240,2242,2244,2246,2248,2260,2262,2264,2266,2268,2280,2282,2284,2286,2288,2400,2402,2404,2406,2408,2420,2422,2424,2426,2428,2440,2442,2444,2446,2448,2460,2462,2464,2466,2468,2480,2482,2484,2486,2488,2600,2602,2604,2606,2608,2620,2622,2624,2626,2628,2640,2642,2644,2646,2648,2660,2662,2664,2666,2668,2680,2682,2684,2686,2688,2800,2802,2804,2806,2808,2820,2822,2824,2826,2828,2840,2842,2844,2846,2848,2860,2862,2864,2866,2868,2880,2882,2884,2886,2888\n"
     ]
    }
   ],
   "source": [
    "lst = []\n",
    "\n",
    "for i in range(1000,3001):\n",
    "    flag = 1\n",
    "    for j in str(i):\n",
    "        if ord(j) % 2 != 0:\n",
    "            flag = 0\n",
    "    if flag == 1:\n",
    "        lst.append(str(i))\n",
    "print(','.join(lst))"
   ]
  },
  {
   "cell_type": "code",
   "execution_count": 22,
   "id": "generic-intermediate",
   "metadata": {},
   "outputs": [
    {
     "name": "stdout",
     "output_type": "stream",
     "text": [
      "2000,2002,2004,2006,2008,2020,2022,2024,2026,2028,2040,2042,2044,2046,2048,2060,2062,2064,2066,2068,2080,2082,2084,2086,2088,2200,2202,2204,2206,2208,2220,2222,2224,2226,2228,2240,2242,2244,2246,2248,2260,2262,2264,2266,2268,2280,2282,2284,2286,2288,2400,2402,2404,2406,2408,2420,2422,2424,2426,2428,2440,2442,2444,2446,2448,2460,2462,2464,2466,2468,2480,2482,2484,2486,2488,2600,2602,2604,2606,2608,2620,2622,2624,2626,2628,2640,2642,2644,2646,2648,2660,2662,2664,2666,2668,2680,2682,2684,2686,2688,2800,2802,2804,2806,2808,2820,2822,2824,2826,2828,2840,2842,2844,2846,2848,2860,2862,2864,2866,2868,2880,2882,2884,2886,2888\n"
     ]
    }
   ],
   "source": [
    "def check(element):\n",
    "    return all(ord(i) % 2 == 0 for i in element)\n",
    "\n",
    "lst = [str(i) for i in range(1000,3001)]\n",
    "\n",
    "lst = list(filter(check,lst))\n",
    "print(','.join(lst))"
   ]
  },
  {
   "cell_type": "code",
   "execution_count": 25,
   "id": "adequate-conversation",
   "metadata": {},
   "outputs": [
    {
     "name": "stdout",
     "output_type": "stream",
     "text": [
      "2000,2002,2004,2006,2008,2020,2022,2024,2026,2028,2040,2042,2044,2046,2048,2060,2062,2064,2066,2068,2080,2082,2084,2086,2088,2200,2202,2204,2206,2208,2220,2222,2224,2226,2228,2240,2242,2244,2246,2248,2260,2262,2264,2266,2268,2280,2282,2284,2286,2288,2400,2402,2404,2406,2408,2420,2422,2424,2426,2428,2440,2442,2444,2446,2448,2460,2462,2464,2466,2468,2480,2482,2484,2486,2488,2600,2602,2604,2606,2608,2620,2622,2624,2626,2628,2640,2642,2644,2646,2648,2660,2662,2664,2666,2668,2680,2682,2684,2686,2688,2800,2802,2804,2806,2808,2820,2822,2824,2826,2828,2840,2842,2844,2846,2848,2860,2862,2864,2866,2868,2880,2882,2884,2886,2888\n"
     ]
    }
   ],
   "source": [
    "lst  = [str(i) for i in range(1000,3001)]\n",
    "\n",
    "lst = list(filter(lambda i : all(ord(j) % 2 == 0 for j in i),lst))\n",
    "print(','.join(lst))"
   ]
  },
  {
   "cell_type": "markdown",
   "id": "configured-disney",
   "metadata": {},
   "source": [
    "#### 13.Write a program that accepts a sentence and calculate the number of letters and digits.\n",
    "\n",
    "#### Suppose the following input is supplied to the program:\n",
    "    hello world! 123\n",
    "\n",
    "#### Then, the output should be:\n",
    "\n",
    "    LETTERS 10\n",
    "\n",
    "    DIGITS 3"
   ]
  },
  {
   "cell_type": "code",
   "execution_count": null,
   "id": "cathedral-intranet",
   "metadata": {},
   "outputs": [],
   "source": []
  }
 ],
 "metadata": {
  "kernelspec": {
   "display_name": "Python 3",
   "language": "python",
   "name": "python3"
  },
  "language_info": {
   "codemirror_mode": {
    "name": "ipython",
    "version": 3
   },
   "file_extension": ".py",
   "mimetype": "text/x-python",
   "name": "python",
   "nbconvert_exporter": "python",
   "pygments_lexer": "ipython3",
   "version": "3.7.9"
  }
 },
 "nbformat": 4,
 "nbformat_minor": 5
}
