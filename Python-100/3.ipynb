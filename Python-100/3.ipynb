{
 "cells": [
  {
   "cell_type": "markdown",
   "id": "packed-award",
   "metadata": {},
   "source": [
    "#### 10.Write a program that accepts a sequence of whitespace separated words as input and prints the words after removing all duplicate words and sorting them alphanumerically.\n",
    "\n",
    "#### Suppose the following input is supplied to the program:\n",
    "\n",
    "    hello world and practice makes perfect and hello world again\n",
    "\n",
    "#### Then, the output should be:\n",
    "\n",
    "    again and hello makes perfect practice world\n",
    "\n"
   ]
  },
  {
   "cell_type": "code",
   "execution_count": 1,
   "id": "tracked-arnold",
   "metadata": {},
   "outputs": [
    {
     "name": "stdout",
     "output_type": "stream",
     "text": [
      "hello world and practice makes perfect and hello world again\n",
      "\n"
     ]
    }
   ],
   "source": [
    "word = input().split(',')\n",
    "\n",
    "for i in word:\n",
    "    if(word.count(i)):\n",
    "        word.remove(i)\n",
    "        \n",
    "print(','.join(word))"
   ]
  },
  {
   "cell_type": "code",
   "execution_count": null,
   "id": "devoted-easter",
   "metadata": {},
   "outputs": [],
   "source": []
  }
 ],
 "metadata": {
  "kernelspec": {
   "display_name": "Python 3",
   "language": "python",
   "name": "python3"
  },
  "language_info": {
   "codemirror_mode": {
    "name": "ipython",
    "version": 3
   },
   "file_extension": ".py",
   "mimetype": "text/x-python",
   "name": "python",
   "nbconvert_exporter": "python",
   "pygments_lexer": "ipython3",
   "version": "3.7.9"
  }
 },
 "nbformat": 4,
 "nbformat_minor": 5
}
