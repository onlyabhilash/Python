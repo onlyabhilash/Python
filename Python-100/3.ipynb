{
 "cells": [
  {
   "cell_type": "markdown",
   "id": "published-turtle",
   "metadata": {},
   "source": [
    "#### 10.Write a program that accepts a sequence of whitespace separated words as input and prints the words after removing all duplicate words and sorting them alphanumerically.\n",
    "\n",
    "#### Suppose the following input is supplied to the program:\n",
    "\n",
    "    hello world and practice makes perfect and hello world again\n",
    "\n",
    "#### Then, the output should be:\n",
    "\n",
    "    again and hello makes perfect practice world\n",
    "\n"
   ]
  },
  {
   "cell_type": "code",
   "execution_count": 23,
   "id": "experimental-fitting",
   "metadata": {},
   "outputs": [
    {
     "name": "stdout",
     "output_type": "stream",
     "text": [
      "hello world and practice makes perfect and hello world again\n",
      "again and hello makes perfect practice world\n"
     ]
    }
   ],
   "source": [
    "word = input().split()\n",
    "\n",
    "for i in word:\n",
    "    if (word.count(i) > 1):\n",
    "        word.remove(i)\n",
    "\n",
    "word.sort()\n",
    "print(\" \".join(word))"
   ]
  },
  {
   "cell_type": "code",
   "execution_count": 27,
   "id": "double-connectivity",
   "metadata": {},
   "outputs": [
    {
     "name": "stdout",
     "output_type": "stream",
     "text": [
      "hello world and practice makes perfect and hello world again\n",
      "again and hello makes perfect practice world\n"
     ]
    }
   ],
   "source": [
    "word = input().split()\n",
    "\n",
    "[word.remove(i) for i in word if word.count(i) > 1]\n",
    "word.sort()\n",
    "print(' '.join(word))"
   ]
  },
  {
   "cell_type": "code",
   "execution_count": 31,
   "id": "severe-longer",
   "metadata": {},
   "outputs": [
    {
     "name": "stdout",
     "output_type": "stream",
     "text": [
      "hello world and practice makes perfect and hello world again\n",
      "again and hello makes perfect practice world\n"
     ]
    }
   ],
   "source": [
    "word = sorted(set(input().split()))\n",
    "\n",
    "print(' '.join(word))"
   ]
  },
  {
   "cell_type": "markdown",
   "id": "signal-slave",
   "metadata": {},
   "source": [
    "#### 11.Write a program which accepts a sequence of comma separated 4 digit binary numbers as its input and then check whether they are divisible by 5 or not. The numbers that are divisible by 5 are to be printed in a comma separated sequence.\n",
    "\n",
    "#### Example:\n",
    "\n",
    "    0100,0011,1010,1001\n",
    "\n",
    "#### Then the output should be:\n",
    "\n",
    "    1010\n",
    "\n",
    "#### Notes: Assume the data is input by console."
   ]
  },
  {
   "cell_type": "code",
   "execution_count": 1,
   "id": "multiple-advance",
   "metadata": {},
   "outputs": [
    {
     "name": "stdout",
     "output_type": "stream",
     "text": [
      "0100,0011,1010,1001\n",
      "1010\n"
     ]
    }
   ],
   "source": [
    "def check(x): # converts binary to integer & returns zero if divisible by 5\n",
    "    total,pw = 0 ,1\n",
    "    reversed(x)\n",
    "    \n",
    "    for i in x:\n",
    "        total += pw * (ord(i) - 48) # ord() function returns ASCII value\n",
    "        pw *= 2\n",
    "    return total % 5\n",
    "\n",
    "data = input().split(',')\n",
    "lst = []\n",
    "\n",
    "for i in data:\n",
    "    if check(i) == 0:\n",
    "        lst.append(i)\n",
    "\n",
    "print(','.join(lst))"
   ]
  },
  {
   "cell_type": "code",
   "execution_count": 3,
   "id": "thermal-cattle",
   "metadata": {},
   "outputs": [
    {
     "name": "stdout",
     "output_type": "stream",
     "text": [
      "0100,0011,1010,1001\n",
      "['0100', '0011', '1010', '1001']\n",
      "1010\n"
     ]
    }
   ],
   "source": [
    "def check(x):\n",
    "    return int(x,2) % 5 == 0 # int(x,b) takes x as string and b as base from which\n",
    "    # it will be converted to decimal\n",
    "    \n",
    "data  = input().split(',')\n",
    "print(data)\n",
    "\n",
    "data = list(\n",
    "    filter(check,data) # in filter(func,object) function, elements are picked from 'data' if found True by 'check' function\n",
    "    )\n",
    "\n",
    "print(','.join(data))"
   ]
  },
  {
   "cell_type": "code",
   "execution_count": 4,
   "id": "unavailable-green",
   "metadata": {},
   "outputs": [
    {
     "name": "stdout",
     "output_type": "stream",
     "text": [
      "0100,0011,1010,1001\n",
      "1010\n"
     ]
    }
   ],
   "source": [
    "data = input().split(',')\n",
    "\n",
    "data = list(filter(lambda i : int(i,2) % 5 == 0, data))\n",
    "print(','.join(data))"
   ]
  },
  {
   "cell_type": "code",
   "execution_count": null,
   "id": "alternative-steel",
   "metadata": {},
   "outputs": [],
   "source": []
  }
 ],
 "metadata": {
  "kernelspec": {
   "display_name": "Python 3",
   "language": "python",
   "name": "python3"
  },
  "language_info": {
   "codemirror_mode": {
    "name": "ipython",
    "version": 3
   },
   "file_extension": ".py",
   "mimetype": "text/x-python",
   "name": "python",
   "nbconvert_exporter": "python",
   "pygments_lexer": "ipython3",
   "version": "3.7.9"
  }
 },
 "nbformat": 4,
 "nbformat_minor": 5
}
